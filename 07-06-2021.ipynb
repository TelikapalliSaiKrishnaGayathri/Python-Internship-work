{
 "cells": [
  {
   "cell_type": "markdown",
   "id": "c211a7b0",
   "metadata": {},
   "source": [
    "# Packages and modules"
   ]
  },
  {
   "cell_type": "markdown",
   "id": "5d87fb1c",
   "metadata": {},
   "source": [
    "## Package:\n",
    "    - Folder - No. of files or no. of folders\n",
    "    - Package ---> Folder\n",
    "                --> Number of folders or files\n",
    "                --> Collection of modules\n",
    "    - Modules -> Files [.py]\n",
    "              -> Collection of class,methods,functions,variables"
   ]
  },
  {
   "cell_type": "code",
   "execution_count": 1,
   "id": "d3acc485",
   "metadata": {},
   "outputs": [],
   "source": [
    "import math"
   ]
  },
  {
   "cell_type": "code",
   "execution_count": 2,
   "id": "fe9276fd",
   "metadata": {},
   "outputs": [
    {
     "name": "stdout",
     "output_type": "stream",
     "text": [
      "['__doc__', '__loader__', '__name__', '__package__', '__spec__', 'acos', 'acosh', 'asin', 'asinh', 'atan', 'atan2', 'atanh', 'ceil', 'copysign', 'cos', 'cosh', 'degrees', 'e', 'erf', 'erfc', 'exp', 'expm1', 'fabs', 'factorial', 'floor', 'fmod', 'frexp', 'fsum', 'gamma', 'gcd', 'hypot', 'inf', 'isclose', 'isfinite', 'isinf', 'isnan', 'ldexp', 'lgamma', 'log', 'log10', 'log1p', 'log2', 'modf', 'nan', 'pi', 'pow', 'radians', 'remainder', 'sin', 'sinh', 'sqrt', 'tan', 'tanh', 'tau', 'trunc']\n"
     ]
    }
   ],
   "source": [
    "print(dir(math))"
   ]
  },
  {
   "cell_type": "code",
   "execution_count": 3,
   "id": "d4db1162",
   "metadata": {},
   "outputs": [
    {
     "name": "stdout",
     "output_type": "stream",
     "text": [
      "120\n"
     ]
    }
   ],
   "source": [
    "print(math.factorial(5))"
   ]
  },
  {
   "cell_type": "code",
   "execution_count": 4,
   "id": "2f585417",
   "metadata": {},
   "outputs": [],
   "source": [
    "import sample"
   ]
  },
  {
   "cell_type": "code",
   "execution_count": 5,
   "id": "1670b7f6",
   "metadata": {},
   "outputs": [
    {
     "name": "stdout",
     "output_type": "stream",
     "text": [
      "200\n"
     ]
    }
   ],
   "source": [
    "print(sample.a)"
   ]
  },
  {
   "cell_type": "code",
   "execution_count": 6,
   "id": "847e799f",
   "metadata": {},
   "outputs": [
    {
     "name": "stdout",
     "output_type": "stream",
     "text": [
      "['__builtins__', '__cached__', '__doc__', '__file__', '__loader__', '__name__', '__package__', '__spec__', 'a']\n"
     ]
    }
   ],
   "source": [
    "print(dir(sample))"
   ]
  },
  {
   "cell_type": "code",
   "execution_count": 1,
   "id": "4c9686ac",
   "metadata": {},
   "outputs": [],
   "source": [
    "import first # creating a file first.py and importing it"
   ]
  },
  {
   "cell_type": "code",
   "execution_count": 3,
   "id": "af2a1f07",
   "metadata": {},
   "outputs": [
    {
     "name": "stdout",
     "output_type": "stream",
     "text": [
      "Hello Good evening...  Welcome Krishna Gayathri\n"
     ]
    }
   ],
   "source": [
    "print(first.h , first.a) # accessing the variables present in that file"
   ]
  },
  {
   "cell_type": "code",
   "execution_count": 4,
   "id": "6da8d380",
   "metadata": {},
   "outputs": [],
   "source": [
    "from APSSDC import demo   # Creating a folder APSSDC and importing that folder"
   ]
  },
  {
   "cell_type": "code",
   "execution_count": 5,
   "id": "919a9acd",
   "metadata": {},
   "outputs": [
    {
     "name": "stdout",
     "output_type": "stream",
     "text": [
      "['__builtins__', '__cached__', '__doc__', '__file__', '__loader__', '__name__', '__package__', '__spec__', 'a', 'z']\n"
     ]
    }
   ],
   "source": [
    "print(dir(demo))"
   ]
  },
  {
   "cell_type": "code",
   "execution_count": 6,
   "id": "2744432a",
   "metadata": {},
   "outputs": [
    {
     "name": "stdout",
     "output_type": "stream",
     "text": [
      "2000\n"
     ]
    }
   ],
   "source": [
    "print(demo.a)"
   ]
  },
  {
   "cell_type": "code",
   "execution_count": 7,
   "id": "8bb71bb0",
   "metadata": {},
   "outputs": [
    {
     "name": "stdout",
     "output_type": "stream",
     "text": [
      "3000\n"
     ]
    }
   ],
   "source": [
    "print(demo.z)"
   ]
  },
  {
   "cell_type": "code",
   "execution_count": 8,
   "id": "96f34465",
   "metadata": {},
   "outputs": [
    {
     "name": "stdout",
     "output_type": "stream",
     "text": [
      "2000 3000\n"
     ]
    }
   ],
   "source": [
    "print(demo.a, demo.z) # accessing the varaiables created in that file"
   ]
  },
  {
   "cell_type": "code",
   "execution_count": 5,
   "id": "53ddcf21",
   "metadata": {},
   "outputs": [],
   "source": [
    "from APSSDC import *"
   ]
  },
  {
   "cell_type": "code",
   "execution_count": 2,
   "id": "449303bd",
   "metadata": {},
   "outputs": [
    {
     "ename": "NameError",
     "evalue": "name 'demo' is not defined",
     "output_type": "error",
     "traceback": [
      "\u001b[1;31m---------------------------------------------------------------------------\u001b[0m",
      "\u001b[1;31mNameError\u001b[0m                                 Traceback (most recent call last)",
      "\u001b[1;32m<ipython-input-2-f5db8380a7c6>\u001b[0m in \u001b[0;36m<module>\u001b[1;34m\u001b[0m\n\u001b[1;32m----> 1\u001b[1;33m \u001b[0mprint\u001b[0m\u001b[1;33m(\u001b[0m\u001b[0mdemo\u001b[0m\u001b[1;33m.\u001b[0m\u001b[0mp\u001b[0m\u001b[1;33m,\u001b[0m \u001b[0mkrishna\u001b[0m\u001b[1;33m.\u001b[0m\u001b[0mname\u001b[0m\u001b[1;33m)\u001b[0m\u001b[1;33m\u001b[0m\u001b[0m\n\u001b[0m",
      "\u001b[1;31mNameError\u001b[0m: name 'demo' is not defined"
     ]
    }
   ],
   "source": [
    "print(demo.p, krishna.name)"
   ]
  },
  {
   "cell_type": "code",
   "execution_count": 7,
   "id": "4b090844",
   "metadata": {},
   "outputs": [],
   "source": [
    "from APSSDC import demo,krishna # importing two different modules form a single folder called APSSDC"
   ]
  },
  {
   "cell_type": "code",
   "execution_count": 9,
   "id": "1901528d",
   "metadata": {},
   "outputs": [
    {
     "name": "stdout",
     "output_type": "stream",
     "text": [
      "3000 Krishna Gayathri\n"
     ]
    }
   ],
   "source": [
    "print(demo.z, krishna.name)"
   ]
  },
  {
   "cell_type": "code",
   "execution_count": 10,
   "id": "3b98b80b",
   "metadata": {},
   "outputs": [
    {
     "name": "stdout",
     "output_type": "stream",
     "text": [
      "2000 Hello Gayathri! Welcome to APSSDC Internship.\n"
     ]
    }
   ],
   "source": [
    "print(demo.a,krishna.msg)"
   ]
  },
  {
   "cell_type": "code",
   "execution_count": 3,
   "id": "05dd0d30",
   "metadata": {},
   "outputs": [],
   "source": [
    "from APSSDC.CSE import first as c # importing two different folders CSE and ECE but filename in those 2 folders are same\n",
    "from APSSDC.ECE import first as e # here these two folders are from APSSDC folder"
   ]
  },
  {
   "cell_type": "code",
   "execution_count": 4,
   "id": "e8259cb6",
   "metadata": {},
   "outputs": [
    {
     "name": "stdout",
     "output_type": "stream",
     "text": [
      "I'm First year student form CSE.\n",
      "I'm first year student from ECE.\n"
     ]
    }
   ],
   "source": [
    "print(c.p)\n",
    "print(e.q)"
   ]
  },
  {
   "cell_type": "markdown",
   "id": "3324fffc",
   "metadata": {},
   "source": [
    "# Task \n",
    "\n",
    "***creating a package called calci that consists of different modules with arithmetic operations***"
   ]
  },
  {
   "cell_type": "code",
   "execution_count": 1,
   "id": "7bb03a62",
   "metadata": {},
   "outputs": [],
   "source": [
    "from APSSDC.Calci import add as a # importing add module from Calci\n",
    "from APSSDC.Calci import sub as s # importing sub module from Calci\n",
    "from APSSDC.Calci import mul as m # importing mul module from Calci\n",
    "from APSSDC.Calci import div as d # importing div module from Calci"
   ]
  },
  {
   "cell_type": "code",
   "execution_count": 4,
   "id": "9fc48c5c",
   "metadata": {},
   "outputs": [
    {
     "name": "stdout",
     "output_type": "stream",
     "text": [
      "Enter first value: 10\n",
      "Enter second value: 20\n",
      "The given numbers are 10 and 20 and its addition is : 30\n",
      "The given numbers are 10 and 20 and its subtraction is : -10\n",
      "The given numbers are 10 and 20 and its multiplication is : 200\n",
      "The given numbers are 10 and 20 and its division is : 0.5\n"
     ]
    }
   ],
   "source": [
    "x = int(input(\"Enter first value: \"))\n",
    "y = int(input(\"Enter second value: \"))\n",
    "z1 = a.add(x,y) # accessing addition value and storing in z1 variable\n",
    "z2 = s.sub(x,y) # accessing subtraction value and storing in z2 variable\n",
    "z3 = m.mul(x,y) # accessing multiplication value and storing in z3 variable\n",
    "z4 = d.div(x,y) # accessing division value and storing in z4 variable\n",
    "print(\"The given numbers are {} and {} and its addition is : {}\".format(x,y,z1))\n",
    "print(\"The given numbers are {} and {} and its subtraction is : {}\".format(x,y,z2))\n",
    "print(\"The given numbers are {} and {} and its multiplication is : {}\".format(x,y,z3))\n",
    "print(\"The given numbers are {} and {} and its division is : {}\".format(x,y,z4))"
   ]
  },
  {
   "cell_type": "code",
   "execution_count": null,
   "id": "99f8b84c",
   "metadata": {},
   "outputs": [],
   "source": []
  }
 ],
 "metadata": {
  "kernelspec": {
   "display_name": "Python 3",
   "language": "python",
   "name": "python3"
  },
  "language_info": {
   "codemirror_mode": {
    "name": "ipython",
    "version": 3
   },
   "file_extension": ".py",
   "mimetype": "text/x-python",
   "name": "python",
   "nbconvert_exporter": "python",
   "pygments_lexer": "ipython3",
   "version": "3.7.0"
  }
 },
 "nbformat": 4,
 "nbformat_minor": 5
}
