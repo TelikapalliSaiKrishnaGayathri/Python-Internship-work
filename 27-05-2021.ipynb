{
 "cells": [
  {
   "cell_type": "code",
   "execution_count": 7,
   "id": "b5105a33",
   "metadata": {},
   "outputs": [
    {
     "name": "stdout",
     "output_type": "stream",
     "text": [
      "Enter roll number count: 34\n",
      "19KQ1A0501\n",
      "19KQ1A0502\n",
      "19KQ1A0503\n",
      "19KQ1A0504\n",
      "19KQ1A0505\n",
      "19KQ1A0506\n",
      "19KQ1A0507\n",
      "19KQ1A0508\n",
      "19KQ1A0509\n",
      "19KQ1A0510\n",
      "19KQ1A0511\n",
      "19KQ1A0512\n",
      "19KQ1A0513\n",
      "19KQ1A0514\n",
      "19KQ1A0515\n",
      "19KQ1A0516\n",
      "19KQ1A0517\n",
      "19KQ1A0518\n",
      "19KQ1A0519\n",
      "19KQ1A0520\n",
      "19KQ1A0521\n",
      "19KQ1A0522\n",
      "19KQ1A0523\n",
      "19KQ1A0524\n",
      "19KQ1A0525\n",
      "19KQ1A0526\n",
      "19KQ1A0527\n",
      "19KQ1A0528\n",
      "19KQ1A0529\n",
      "19KQ1A0530\n",
      "19KQ1A0531\n",
      "19KQ1A0532\n",
      "19KQ1A0533\n",
      "19KQ1A0534\n"
     ]
    }
   ],
   "source": [
    "n=int(input(\"Enter roll number count: \"))\n",
    "for i in range(1,n+1):\n",
    "    print(\"19KQ1A05{:02}\".format(i)) #writing single digits as tens place digits"
   ]
  },
  {
   "cell_type": "markdown",
   "id": "4d1d04d9",
   "metadata": {},
   "source": [
    "## While --> Unknown ranges, known ranges\n",
    "```\n",
    "Syntax:\n",
    "    \n",
    "    varaible initialisation\n",
    "    while(condition):\n",
    "        //statements\n",
    "        //increment or decrement\n",
    "        "
   ]
  },
  {
   "cell_type": "code",
   "execution_count": 8,
   "id": "30324fa2",
   "metadata": {},
   "outputs": [
    {
     "name": "stdout",
     "output_type": "stream",
     "text": [
      "10\n",
      "10 11 12 13 14 15 16 17 18 19 20 21 22 23 24 25 "
     ]
    }
   ],
   "source": [
    "n=int(input())\n",
    "while n!=26:\n",
    "    print(n,end=' ')\n",
    "    n=n+1"
   ]
  },
  {
   "cell_type": "code",
   "execution_count": 1,
   "id": "5c77e01c",
   "metadata": {},
   "outputs": [
    {
     "name": "stdout",
     "output_type": "stream",
     "text": [
      "20\n",
      "20 19 18 17 16 15 14 13 12 11 "
     ]
    }
   ],
   "source": [
    "n=int(input())\n",
    "while n!=10:\n",
    "    print(n,end=' ')\n",
    "    n=n-1"
   ]
  },
  {
   "cell_type": "code",
   "execution_count": 2,
   "id": "02656f29",
   "metadata": {},
   "outputs": [
    {
     "name": "stdout",
     "output_type": "stream",
     "text": [
      "Enter a number: 26\n",
      "1 2 3 4 5 6 7 8 9 10 11 12 13 14 15 16 17 18 19 20 21 22 23 24 25 "
     ]
    }
   ],
   "source": [
    "num = int(input(\"Enter a number: \"))\n",
    "i=1\n",
    "while num!=i:\n",
    "    print(i,end=' ')\n",
    "    i=i+1"
   ]
  },
  {
   "cell_type": "code",
   "execution_count": 12,
   "id": "488d57c6",
   "metadata": {},
   "outputs": [
    {
     "name": "stdout",
     "output_type": "stream",
     "text": [
      "Enter a number:12345\n",
      "Given number is 12345 and its reverse is: 54321\n"
     ]
    }
   ],
   "source": [
    "# Finding reverse of a number using while loop\n",
    "num = int(input(\"Enter a number:\"))\n",
    "originalnum = num\n",
    "temp = 0\n",
    "while(num > 0):\n",
    "    temp = temp*10+num%10\n",
    "    num = num//10\n",
    "print(\"Given number is {} and its reverse is: {}\".format(originalnum,temp))"
   ]
  },
  {
   "cell_type": "code",
   "execution_count": 13,
   "id": "eba35866",
   "metadata": {},
   "outputs": [
    {
     "name": "stdout",
     "output_type": "stream",
     "text": [
      "Enter a number:2367\n",
      "Given number is 2367\n",
      "Reverse of the number is: 7632\n",
      "Given number is 2367 and its reverse is: 7632\n"
     ]
    }
   ],
   "source": [
    "# Finding reverse of a number using while loop\n",
    "num = int(input(\"Enter a number:\"))\n",
    "originalnum = num\n",
    "temp = 0\n",
    "while(num > 0):\n",
    "    temp = temp*10+num%10\n",
    "    num = num//10\n",
    "print(\"Given number is {}\\nReverse of the number is: {}\\nGiven number is {} and its reverse is: {}\".format(originalnum,temp,originalnum,temp))"
   ]
  },
  {
   "cell_type": "markdown",
   "id": "93f688a7",
   "metadata": {},
   "source": [
    "## Jumping Statements\n",
    "````\n",
    " Jumping Statements are\n",
    "     1. break -> exit\n",
    "     2. continue -> skip\n",
    "     3. pass -> skip nothing will return\n",
    "     4. return -> values to be sent for function\n",
    "     \n",
    "     "
   ]
  },
  {
   "cell_type": "code",
   "execution_count": 16,
   "id": "f84ff97c",
   "metadata": {},
   "outputs": [
    {
     "name": "stdout",
     "output_type": "stream",
     "text": [
      "Enter a number: 26\n",
      "0 1 2 3 4 5 6 7 8 9 10 11 12 13 14 15 16 17 18 19 "
     ]
    }
   ],
   "source": [
    "#Break statement\n",
    "\n",
    "n = int(input(\"Enter a number: \"))\n",
    "for i in range(n+1):\n",
    "    if i==20:\n",
    "        break\n",
    "    else:\n",
    "        print(i,end=\" \")"
   ]
  },
  {
   "cell_type": "code",
   "execution_count": 19,
   "id": "9445d5d9",
   "metadata": {},
   "outputs": [
    {
     "name": "stdout",
     "output_type": "stream",
     "text": [
      "Enter a number: 26\n",
      "0 1 2 3 4 5 6 7 8 9 10 11 12 13 14 15 16 17 18 19 21 22 23 24 25 26 \n",
      " 26\n"
     ]
    }
   ],
   "source": [
    "#Continue Statement\n",
    "\n",
    "n = int(input(\"Enter a number: \"))\n",
    "for i in range(n+1):\n",
    "    if i==20:\n",
    "        continue\n",
    "    else:\n",
    "        print(i,end=\" \")\n",
    "print(\"\\n\",i)"
   ]
  },
  {
   "cell_type": "code",
   "execution_count": 22,
   "id": "6e044ad8",
   "metadata": {},
   "outputs": [
    {
     "name": "stdout",
     "output_type": "stream",
     "text": [
      "Enter a number: 9\n",
      "0 1 2 3 4 6 7 8 9 "
     ]
    }
   ],
   "source": [
    "n = int(input(\"Enter a number: \"))\n",
    "for i in range(n+1):\n",
    "    if i==5:\n",
    "        pass\n",
    "    else:\n",
    "        print(i,end=\" \")"
   ]
  },
  {
   "cell_type": "code",
   "execution_count": 23,
   "id": "710d0744",
   "metadata": {},
   "outputs": [
    {
     "name": "stdout",
     "output_type": "stream",
     "text": [
      "h\n",
      "e\n",
      "l\n",
      "l\n",
      "o\n"
     ]
    }
   ],
   "source": [
    "for i in 'hello':\n",
    "    if(i=='e'):\n",
    "        pass\n",
    "    print(i)"
   ]
  },
  {
   "cell_type": "code",
   "execution_count": 25,
   "id": "a9e64b16",
   "metadata": {},
   "outputs": [
    {
     "name": "stdout",
     "output_type": "stream",
     "text": [
      "h\n",
      "l\n",
      "l\n",
      "o\n"
     ]
    }
   ],
   "source": [
    "for i in 'hello':\n",
    "    if(i=='e'):\n",
    "        continue\n",
    "    print(i)"
   ]
  },
  {
   "cell_type": "markdown",
   "id": "8ba4e18c",
   "metadata": {},
   "source": [
    "## Inner Loops\n",
    "```\n",
    " Loop within a Loop\n",
    "  Syntax:\n",
    "      for i in range():\n",
    "          for j in range():\n",
    "              if(Condition):\n",
    "                  //statements\n",
    "              else:\n",
    "                  //statements\n",
    "          print('\\n')\n",
    "              \n",
    "              "
   ]
  },
  {
   "cell_type": "code",
   "execution_count": 26,
   "id": "1ad9b960",
   "metadata": {},
   "outputs": [
    {
     "name": "stdout",
     "output_type": "stream",
     "text": [
      "1 2 3 4 5 6 7 \n",
      "1 2 3 4 5 6 7 \n",
      "1 2 3 4 5 6 7 \n",
      "1 2 3 4 5 6 7 \n",
      "1 2 3 4 5 6 7 \n"
     ]
    }
   ],
   "source": [
    "for i in range(1,6):\n",
    "    for j in range(1,8):\n",
    "        print(j,end=\" \")\n",
    "    print(end=\"\\n\")\n",
    "            "
   ]
  },
  {
   "cell_type": "code",
   "execution_count": 27,
   "id": "baaf46d0",
   "metadata": {},
   "outputs": [
    {
     "name": "stdout",
     "output_type": "stream",
     "text": [
      "1 1 1 1 1 1 1 \n",
      "2 2 2 2 2 2 2 \n",
      "3 3 3 3 3 3 3 \n",
      "4 4 4 4 4 4 4 \n",
      "5 5 5 5 5 5 5 \n"
     ]
    }
   ],
   "source": [
    "for i in range(1,6):\n",
    "    for j in range(1,8):\n",
    "        print(i,end=\" \")\n",
    "    print(end=\"\\n\")\n",
    "            "
   ]
  },
  {
   "cell_type": "code",
   "execution_count": 31,
   "id": "54c23ea9",
   "metadata": {},
   "outputs": [
    {
     "name": "stdout",
     "output_type": "stream",
     "text": [
      "01 02 03 04 05 06 07 \n",
      "08 09 10 11 12 13 14 \n",
      "15 16 17 18 19 20 21 \n",
      "22 23 24 25 26 27 28 \n",
      "29 30 31 \n"
     ]
    }
   ],
   "source": [
    "a=1\n",
    "for i in range(1,6):\n",
    "    for j in range(1,8):\n",
    "        if a<=31:\n",
    "                print(\"{:02}\".format(a),end=\" \")\n",
    "        else:\n",
    "            break\n",
    "        a+=1\n",
    "    print(end=\"\\n\")\n",
    "            "
   ]
  },
  {
   "cell_type": "code",
   "execution_count": 32,
   "id": "532d0b9a",
   "metadata": {},
   "outputs": [
    {
     "name": "stdout",
     "output_type": "stream",
     "text": [
      "01 ** 03 ** 05 ** 07 \n",
      "** 09 ** 11 ** 13 ** \n",
      "15 ** 17 ** 19 ** 21 \n",
      "** 23 ** 25 ** 27 ** \n",
      "29 ** 31 \n"
     ]
    }
   ],
   "source": [
    "#printing stars instead of even numbers\n",
    "a=1\n",
    "for i in range(1,6):\n",
    "    for j in range(1,8):\n",
    "        if a<=31:\n",
    "            if(a%2==0):\n",
    "                print(\"**\",end=\" \")\n",
    "            else:\n",
    "                print(\"{:02}\".format(a),end=\" \")\n",
    "        else:\n",
    "            break\n",
    "        a+=1\n",
    "    print(end=\"\\n\")\n",
    "            "
   ]
  },
  {
   "cell_type": "code",
   "execution_count": 34,
   "id": "6ecc925b",
   "metadata": {},
   "outputs": [
    {
     "name": "stdout",
     "output_type": "stream",
     "text": [
      "01 ** 03 ** ## ** 07 \n",
      "** 09 ## 11 ** 13 ** \n",
      "## ** 17 ** 19 ## 21 \n",
      "** 23 ** ## ** 27 ** \n",
      "29 ## 31 \n"
     ]
    }
   ],
   "source": [
    "#printing stars instead of even numbers and hash symbols instead of 5 multiples\n",
    "a=1\n",
    "for i in range(1,6):\n",
    "    for j in range(1,8):\n",
    "        if a<=31:\n",
    "            if(a%5==0):\n",
    "                print(\"##\",end=\" \")\n",
    "            elif(a%2==0):\n",
    "                print(\"**\",end=\" \")\n",
    "            else:\n",
    "                print(\"{:02}\".format(a),end=\" \")\n",
    "        else:\n",
    "            break\n",
    "        a+=1\n",
    "    print(end=\"\\n\")\n",
    "            "
   ]
  },
  {
   "cell_type": "code",
   "execution_count": 36,
   "id": "be539351",
   "metadata": {},
   "outputs": [
    {
     "name": "stdout",
     "output_type": "stream",
     "text": [
      "[] ** () ** ## ** [] \n",
      "** () ## [] ** [] ** \n",
      "## ** [] ** [] ## () \n",
      "** [] ** ## ** () ** \n",
      "[] ## [] \n"
     ]
    }
   ],
   "source": [
    "#printing stars instead of even numbers and hash symbols instead of 5 multiples\n",
    "#printing () instead of 3 multiples and [] for remaining numbers\n",
    "# 3rd column must be filled with || symbols\n",
    "a=1\n",
    "for i in range(1,6):\n",
    "    for j in range(1,8):\n",
    "        if a<=31:\n",
    "            if(a%5==0):\n",
    "                print(\"##\",end=\" \")\n",
    "            elif(a%2==0):\n",
    "                print(\"**\",end=\" \")\n",
    "            elif(a%3==0):\n",
    "                print(\"()\",end=\" \")\n",
    "            else:\n",
    "                print(\"[]\",end=\" \")\n",
    "        else:\n",
    "            break\n",
    "        a+=1\n",
    "    print(end=\"\\n\")"
   ]
  },
  {
   "cell_type": "code",
   "execution_count": 37,
   "id": "86587e31",
   "metadata": {},
   "outputs": [
    {
     "name": "stdout",
     "output_type": "stream",
     "text": [
      "[] ** || ** [] ** [] \n",
      "** () || [] ** [] ** \n",
      "() ** || ** [] ** () \n",
      "** [] || [] ** () ** \n",
      "[] ** || \n"
     ]
    }
   ],
   "source": [
    "#printing stars instead of even numbers and hash symbols instead of 5 multiples\n",
    "#printing () instead of 3 multiples and [] for remaining numbers\n",
    "a=1\n",
    "for i in range(1,6):\n",
    "    for j in range(1,8):\n",
    "        if a<=31:\n",
    "            if(j==3):\n",
    "                print(\"||\",end=\" \")\n",
    "            elif(a%2==0):\n",
    "                print(\"**\",end=\" \")\n",
    "            elif(a%3==0):\n",
    "                print(\"()\",end=\" \")\n",
    "            else:\n",
    "                print(\"[]\",end=\" \")\n",
    "        else:\n",
    "            break\n",
    "        a+=1\n",
    "    print(end=\"\\n\")\n",
    "            "
   ]
  },
  {
   "cell_type": "code",
   "execution_count": 39,
   "id": "d0b0da8b",
   "metadata": {},
   "outputs": [
    {
     "name": "stdout",
     "output_type": "stream",
     "text": [
      "[] ** () ** [] ** [] \n",
      "&& && && && && && && \n",
      "() ** [] ** [] ** () \n",
      "** [] ** [] ** () ** \n",
      "[] ** [] \n"
     ]
    }
   ],
   "source": [
    "#printing stars instead of even numbers and hash symbols instead of 5 multiples\n",
    "#printing () instead of 3 multiples and [] for remaining numbers\n",
    "# 2nd row must be filled with && symbols\n",
    "a=1\n",
    "for i in range(1,6):\n",
    "    for j in range(1,8):\n",
    "        if a<=31:\n",
    "            if(i==2):\n",
    "                print(\"&&\",end=\" \")\n",
    "            elif(a%2==0):\n",
    "                print(\"**\",end=\" \")\n",
    "            elif(a%3==0):\n",
    "                print(\"()\",end=\" \")\n",
    "            else:\n",
    "                print(\"[]\",end=\" \")\n",
    "        else:\n",
    "            break\n",
    "        a+=1\n",
    "    print(end=\"\\n\")\n",
    "            "
   ]
  },
  {
   "cell_type": "code",
   "execution_count": null,
   "id": "e1ad7829",
   "metadata": {},
   "outputs": [],
   "source": []
  }
 ],
 "metadata": {
  "kernelspec": {
   "display_name": "Python 3",
   "language": "python",
   "name": "python3"
  },
  "language_info": {
   "codemirror_mode": {
    "name": "ipython",
    "version": 3
   },
   "file_extension": ".py",
   "mimetype": "text/x-python",
   "name": "python",
   "nbconvert_exporter": "python",
   "pygments_lexer": "ipython3",
   "version": "3.7.0"
  }
 },
 "nbformat": 4,
 "nbformat_minor": 5
}
