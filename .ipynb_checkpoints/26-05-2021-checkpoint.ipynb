{
 "cells": [
  {
   "cell_type": "markdown",
   "id": "e64b862b",
   "metadata": {},
   "source": [
    "# using emoji 😊✔"
   ]
  },
  {
   "cell_type": "markdown",
   "id": "0f6a802f",
   "metadata": {},
   "source": [
    "## Output format"
   ]
  },
  {
   "cell_type": "code",
   "execution_count": 2,
   "id": "6bd226f4",
   "metadata": {},
   "outputs": [
    {
     "name": "stdout",
     "output_type": "stream",
     "text": [
      "Enter a value: 26\n",
      "Enter name: Krishna Gayathri\n",
      "Entered number is: 26\n",
      "Entered name is: Krishna Gayathri\n"
     ]
    }
   ],
   "source": [
    "n=int(input(\"Enter a value: \"))\n",
    "m=input(\"Enter name: \")\n",
    "print(\"Entered number is: %d\"%n)\n",
    "print(\"Entered name is: %s\"%m)"
   ]
  },
  {
   "cell_type": "code",
   "execution_count": 3,
   "id": "27d0251d",
   "metadata": {},
   "outputs": [
    {
     "name": "stdout",
     "output_type": "stream",
     "text": [
      "Entered number is: 26 and entered name is: Krishna Gayathri\n"
     ]
    }
   ],
   "source": [
    "print(\"Entered number is: %d and entered name is: %s\"%(n,m))"
   ]
  },
  {
   "cell_type": "code",
   "execution_count": 4,
   "id": "7892ddd3",
   "metadata": {},
   "outputs": [
    {
     "name": "stdout",
     "output_type": "stream",
     "text": [
      "Entered number is: 26 and entered name is: Krishna Gayathri\n",
      "Entered name is: Krishna Gayathri and entered number is: 26\n"
     ]
    }
   ],
   "source": [
    "print(\"Entered number is: {} and entered name is: {}\".format(n,m))\n",
    "print(\"Entered name is: {} and entered number is: {}\".format(m,n))"
   ]
  },
  {
   "cell_type": "markdown",
   "id": "4ca8d190",
   "metadata": {},
   "source": [
    "### Operators\n",
    "    -arithmetic----> +,-,*,/,//,**-exponential\n",
    "    -logical-----> AND,OR,NOT\n",
    "    -bitwise--->&&,||,>>,<<\n",
    "    -relational---> ==,>=,>,<=,<,!=\n",
    "    -assignment----> +=,-=,*=,/=,%=\n",
    "    -membership---> in,not in\n",
    "    -identity----> is,is not"
   ]
  },
  {
   "cell_type": "code",
   "execution_count": 7,
   "id": "a34117c9",
   "metadata": {},
   "outputs": [
    {
     "name": "stdout",
     "output_type": "stream",
     "text": [
      "3\n"
     ]
    }
   ],
   "source": [
    "a=15\n",
    "print(a>>2)"
   ]
  },
  {
   "cell_type": "markdown",
   "id": "8fb3dda4",
   "metadata": {},
   "source": [
    "## Conditional Statements\n",
    "    - to check whether the given condition is true or false\n",
    "    - if, if-else, nested if,elif ladder"
   ]
  },
  {
   "cell_type": "markdown",
   "id": "edc606ca",
   "metadata": {},
   "source": [
    "### if statement\n",
    "```\n",
    "    syntax:\n",
    "        if(condition):\n",
    "            //statements\n",
    "            \n",
    "            "
   ]
  },
  {
   "cell_type": "code",
   "execution_count": 15,
   "id": "53e70b34",
   "metadata": {},
   "outputs": [
    {
     "name": "stdout",
     "output_type": "stream",
     "text": [
      "26\n",
      "Entered value is 26\n",
      "26\n"
     ]
    }
   ],
   "source": [
    "x=int(input())\n",
    "if x == 26:\n",
    "    print(\"Entered value is {0}\".format(x))\n",
    "    print(x)"
   ]
  },
  {
   "cell_type": "code",
   "execution_count": 9,
   "id": "29cf25b4",
   "metadata": {},
   "outputs": [
    {
     "name": "stdout",
     "output_type": "stream",
     "text": [
      "26\n",
      "Entered value is  26\n"
     ]
    }
   ],
   "source": [
    "x=int(input())\n",
    "if x == 26:\n",
    "    print(\"Entered value is \",x)"
   ]
  },
  {
   "cell_type": "markdown",
   "id": "ded10d80",
   "metadata": {},
   "source": [
    "## if else condition"
   ]
  },
  {
   "cell_type": "code",
   "execution_count": 17,
   "id": "db446691",
   "metadata": {},
   "outputs": [
    {
     "name": "stdout",
     "output_type": "stream",
     "text": [
      "26\n",
      "16\n",
      "Entered values 26 and 16 are unequal\n"
     ]
    }
   ],
   "source": [
    "p=int(input())\n",
    "q=int(input())\n",
    "if p==q:\n",
    "    print(\"Entered values {} and {} are equal\".format(p,q))\n",
    "else:\n",
    "    print(\"Entered values {} and {} are unequal\".format(p,q))"
   ]
  },
  {
   "cell_type": "markdown",
   "id": "3950a194",
   "metadata": {},
   "source": [
    "## nested if(if inside an if)\n",
    "```\n",
    "    used for one or more cases\n",
    "    Syntax is:\n",
    "        if(condition-1):\n",
    "            if(condition-2):\n",
    "                //stmts\n",
    "            else:\n",
    "                //stmts\n",
    "         else:\n",
    "             //stmts\n",
    "             \n",
    "             "
   ]
  },
  {
   "cell_type": "code",
   "execution_count": 19,
   "id": "df114506",
   "metadata": {},
   "outputs": [
    {
     "name": "stdout",
     "output_type": "stream",
     "text": [
      "26\n",
      "Entered value 26 is not equal to 100 but it is lower than 200\n"
     ]
    }
   ],
   "source": [
    "n=int(input())\n",
    "if(n<=200):\n",
    "    if(n==100):\n",
    "        print(\"Entered value {} is equal to 100\".format(n))\n",
    "    else:\n",
    "        print(\"Entered value {} is not equal to 100 but it is lower than 200\".format(n))\n",
    "else:\n",
    "    print(\"Entered value is greater than 200\".format(n))"
   ]
  },
  {
   "cell_type": "code",
   "execution_count": 20,
   "id": "a94208ed",
   "metadata": {},
   "outputs": [
    {
     "name": "stdout",
     "output_type": "stream",
     "text": [
      "100\n",
      "Entered value 100 is equal to 100\n"
     ]
    }
   ],
   "source": [
    "n=int(input())\n",
    "if(n<=200):\n",
    "    if(n==100):\n",
    "        print(\"Entered value {} is equal to 100\".format(n))\n",
    "    else:\n",
    "        print(\"Entered value {} is not equal to 100 but it is lower than 200\".format(n))\n",
    "else:\n",
    "    print(\"Entered value is greater than 200\".format(n))"
   ]
  },
  {
   "cell_type": "code",
   "execution_count": 21,
   "id": "1acd9120",
   "metadata": {},
   "outputs": [
    {
     "name": "stdout",
     "output_type": "stream",
     "text": [
      "295\n",
      "Entered value is greater than 200\n"
     ]
    }
   ],
   "source": [
    "n=int(input())\n",
    "if(n<=200):\n",
    "    if(n==100):\n",
    "        print(\"Entered value {} is equal to 100\".format(n))\n",
    "    else:\n",
    "        print(\"Entered value {} is not equal to 100 but it is lower than 200\".format(n))\n",
    "else:\n",
    "    print(\"Entered value is greater than 200\".format(n))"
   ]
  },
  {
   "cell_type": "markdown",
   "id": "36ed6169",
   "metadata": {},
   "source": [
    "## Elif -> Two or more n cases\n",
    "```\n",
    "    Syntax:\n",
    "        if(conditon-1):\n",
    "            //stmnts\n",
    "        elif(condition-2):\n",
    "            //stmnts\n",
    "        elif(condition-3):\n",
    "            //stmnts\n",
    "        ............\n",
    "        ............\n",
    "        ............\n",
    "        elif(condition-n):\n",
    "            //stmnts\n",
    "        else:\n",
    "            //stmnts\n",
    "           "
   ]
  },
  {
   "cell_type": "code",
   "execution_count": 23,
   "id": "d53fb29b",
   "metadata": {},
   "outputs": [
    {
     "name": "stdout",
     "output_type": "stream",
     "text": [
      "26\n",
      "Entered value 26 is divisible by 2\n"
     ]
    }
   ],
   "source": [
    "num=int(input())\n",
    "if num%2 == 0 and num%4==0:\n",
    "    print(\"Entered value {} is divisible by 2 and 4\".format(num))\n",
    "elif num%2==0:\n",
    "    print(\"Entered value {} is divisible by 2\".format(num))\n",
    "else:\n",
    "    print(\"Entered value {} is not divisible by 2\".format(num))"
   ]
  },
  {
   "cell_type": "code",
   "execution_count": 24,
   "id": "0c016362",
   "metadata": {},
   "outputs": [
    {
     "name": "stdout",
     "output_type": "stream",
     "text": [
      "20\n",
      "Entered value 20 is divisible by 2 and 4\n"
     ]
    }
   ],
   "source": [
    "num=int(input())\n",
    "if num%2 == 0 and num%4==0:\n",
    "    print(\"Entered value {} is divisible by 2 and 4\".format(num))\n",
    "elif num%2==0:\n",
    "    print(\"Entered value {} is divisible by 2\".format(num))\n",
    "else:\n",
    "    print(\"Entered value {} is not divisible by 2\".format(num))"
   ]
  },
  {
   "cell_type": "code",
   "execution_count": 25,
   "id": "3746e2d8",
   "metadata": {},
   "outputs": [
    {
     "name": "stdout",
     "output_type": "stream",
     "text": [
      "30\n",
      "Entered value 30 is divisible by 2\n"
     ]
    }
   ],
   "source": [
    "num=int(input())\n",
    "if num%2 == 0 and num%4==0:\n",
    "    print(\"Entered value {} is divisible by 2 and 4\".format(num))\n",
    "elif num%2==0:\n",
    "    print(\"Entered value {} is divisible by 2\".format(num))\n",
    "else:\n",
    "    print(\"Entered value {} is not divisible by 2\".format(num))"
   ]
  },
  {
   "cell_type": "markdown",
   "id": "4c606d47",
   "metadata": {},
   "source": [
    "## Control Statements, Iterations, loops\n",
    "    - to control the flow of execution\n",
    "    - For, While"
   ]
  },
  {
   "cell_type": "markdown",
   "id": "f8325f38",
   "metadata": {},
   "source": [
    "### FOR -> [for particular ranges  ==> [known ranges]]\n",
    "```\n",
    "    Syntax:\n",
    "        for iteration_variable in iterator:\n",
    "            //stmnts\n",
    "            \n",
    "        for iteration_variable in range():\n",
    "            //stmnts\n",
    "            "
   ]
  },
  {
   "cell_type": "markdown",
   "id": "868e97b9",
   "metadata": {},
   "source": [
    "### Range\n",
    "```\n",
    "    range(n):\n",
    "        it starts from 0 to n-1\n",
    "        eg. range(5) --> 0,1,2,3,4\n",
    "    range(n,m)\n",
    "        it starts from n to m-1\n",
    "        eg. range(4,8) --> 4,5,6,7\n",
    "    range(n,m,step)\n",
    "        eg. range(5,10,2)--> 5,7,9\n",
    "    if step value is not considered, then the default step value is 1\n",
    "    \n",
    "    "
   ]
  },
  {
   "cell_type": "code",
   "execution_count": 30,
   "id": "d3ea3182",
   "metadata": {},
   "outputs": [
    {
     "name": "stdout",
     "output_type": "stream",
     "text": [
      "Enter a range value: 5\n",
      "0\n",
      "1\n",
      "2\n",
      "3\n",
      "4\n"
     ]
    }
   ],
   "source": [
    "n = int(input(\"Enter a range value: \"))\n",
    "for num in range(n):\n",
    "    print(num)"
   ]
  },
  {
   "cell_type": "code",
   "execution_count": 32,
   "id": "3ebdbe24",
   "metadata": {},
   "outputs": [
    {
     "name": "stdout",
     "output_type": "stream",
     "text": [
      "Enter Starting range: 10\n",
      "Enter Ending range: 26\n",
      "10 11 12 13 14 15 16 17 18 19 20 21 22 23 24 25 "
     ]
    }
   ],
   "source": [
    "p = int(input(\"Enter Starting range: \"))\n",
    "q = int(input(\"Enter Ending range: \"))\n",
    "for i in range(p,q):\n",
    "    print(i, end=\" \")"
   ]
  },
  {
   "cell_type": "code",
   "execution_count": 33,
   "id": "c03c43b1",
   "metadata": {},
   "outputs": [
    {
     "name": "stdout",
     "output_type": "stream",
     "text": [
      "Enter Starting range: 100\n",
      "Enter Ending range: 200\n",
      "Enter Step value: 10\n",
      "100 110 120 130 140 150 160 170 180 190 "
     ]
    }
   ],
   "source": [
    "p = int(input(\"Enter Starting range: \"))\n",
    "q = int(input(\"Enter Ending range: \"))\n",
    "s = int(input(\"Enter Step value: \"))\n",
    "for i in range(p,q,s):\n",
    "    print(i, end=\" \")"
   ]
  },
  {
   "cell_type": "code",
   "execution_count": 36,
   "id": "1f5c07dc",
   "metadata": {},
   "outputs": [
    {
     "name": "stdout",
     "output_type": "stream",
     "text": [
      "Enter Starting range: 1\n",
      "Enter Ending range: 10\n",
      "10 9 8 7 6 5 4 3 2 "
     ]
    }
   ],
   "source": [
    "#numbers in reverse order \n",
    "p = int(input(\"Enter Starting range: \"))\n",
    "q = int(input(\"Enter Ending range: \"))\n",
    "for i in range(q,p,-1):\n",
    "    print(i, end=\" \")"
   ]
  },
  {
   "cell_type": "code",
   "execution_count": 37,
   "id": "78030038",
   "metadata": {},
   "outputs": [
    {
     "name": "stdout",
     "output_type": "stream",
     "text": [
      "Enter Starting range: 1\n",
      "Enter Ending range: 100\n",
      "100 95 90 85 80 75 70 65 60 55 50 45 40 35 30 25 20 15 10 5 "
     ]
    }
   ],
   "source": [
    "#numbers in reverse order \n",
    "p = int(input(\"Enter Starting range: \"))\n",
    "q = int(input(\"Enter Ending range: \"))\n",
    "for i in range(q,p,-5):\n",
    "    print(i, end=\" \")"
   ]
  },
  {
   "cell_type": "code",
   "execution_count": 38,
   "id": "f581dd4b",
   "metadata": {},
   "outputs": [
    {
     "name": "stdout",
     "output_type": "stream",
     "text": [
      "Enter Starting range: 10\n",
      "Enter Ending range: 100\n",
      "Enter step value to reverse the numbers: 10\n",
      "100 90 80 70 60 50 40 30 20 "
     ]
    }
   ],
   "source": [
    "#numbers in reverse order \n",
    "p = int(input(\"Enter Starting range: \"))\n",
    "q = int(input(\"Enter Ending range: \"))\n",
    "s = int(input(\"Enter step value to reverse the numbers: \"))\n",
    "for i in range(q,p,-s):\n",
    "    print(i, end=\" \")"
   ]
  },
  {
   "cell_type": "markdown",
   "id": "7507ef46",
   "metadata": {},
   "source": [
    "# Practice"
   ]
  },
  {
   "cell_type": "markdown",
   "id": "3cc26384",
   "metadata": {},
   "source": [
    "## Basic formatting\n",
    "### example:"
   ]
  },
  {
   "cell_type": "code",
   "execution_count": 1,
   "id": "d3120115",
   "metadata": {},
   "outputs": [
    {
     "name": "stdout",
     "output_type": "stream",
     "text": [
      "Krishna Gayathri\n"
     ]
    }
   ],
   "source": [
    "print('{0} {1}'.format('Krishna','Gayathri'))"
   ]
  },
  {
   "cell_type": "code",
   "execution_count": 4,
   "id": "354e540d",
   "metadata": {},
   "outputs": [
    {
     "name": "stdout",
     "output_type": "stream",
     "text": [
      "Krishna Krishna\n",
      "Gayathri Gayathri\n"
     ]
    }
   ],
   "source": [
    "print('{0} {0}'.format('Krishna','Gayathri'))\n",
    "print('{1} {1}'.format('Krishna','Gayathri'))"
   ]
  },
  {
   "cell_type": "code",
   "execution_count": 3,
   "id": "67ce89cc",
   "metadata": {},
   "outputs": [
    {
     "name": "stdout",
     "output_type": "stream",
     "text": [
      "Gayathri Krishna\n"
     ]
    }
   ],
   "source": [
    "# reversing the order format\n",
    "print('{1} {0}'.format('Krishna','Gayathri'))"
   ]
  },
  {
   "cell_type": "markdown",
   "id": "c1adfc92",
   "metadata": {},
   "source": [
    "## Aligning Strings"
   ]
  },
  {
   "cell_type": "code",
   "execution_count": 10,
   "id": "17a1af07",
   "metadata": {},
   "outputs": [
    {
     "name": "stdout",
     "output_type": "stream",
     "text": [
      "    python\n",
      "      code\n"
     ]
    }
   ],
   "source": [
    "#right alignment of strings\n",
    "#here - represents space\n",
    "print('{:>10}'.format('python')) #----python\n",
    "print('{:>10}'.format('code'))   #------code"
   ]
  },
  {
   "cell_type": "code",
   "execution_count": 11,
   "id": "cc085852",
   "metadata": {},
   "outputs": [
    {
     "name": "stdout",
     "output_type": "stream",
     "text": [
      "python    \n",
      "code      \n"
     ]
    }
   ],
   "source": [
    "# left alignment of strings\n",
    "print('{:10}'.format('python')) #python----\n",
    "print('{:10}'.format('code'))   #code------"
   ]
  },
  {
   "cell_type": "code",
   "execution_count": 12,
   "id": "ef600be9",
   "metadata": {},
   "outputs": [
    {
     "name": "stdout",
     "output_type": "stream",
     "text": [
      "    python     \n"
     ]
    }
   ],
   "source": [
    "# center alignment\n",
    "print('{:^15}'.format('python'))"
   ]
  },
  {
   "cell_type": "markdown",
   "id": "68e5ca6d",
   "metadata": {},
   "source": [
    "## Truncating long strings"
   ]
  },
  {
   "cell_type": "code",
   "execution_count": 13,
   "id": "81837909",
   "metadata": {},
   "outputs": [
    {
     "name": "stdout",
     "output_type": "stream",
     "text": [
      "Krishna\n"
     ]
    }
   ],
   "source": [
    "print('{:.7}'.format('Krishna Gayathri'))"
   ]
  },
  {
   "cell_type": "markdown",
   "id": "c09b4c23",
   "metadata": {},
   "source": [
    "## formatting numbers"
   ]
  },
  {
   "cell_type": "code",
   "execution_count": 15,
   "id": "21096b02",
   "metadata": {},
   "outputs": [
    {
     "name": "stdout",
     "output_type": "stream",
     "text": [
      "+26\n",
      "-26\n",
      " 26\n"
     ]
    }
   ],
   "source": [
    "print('{:+d}'.format(26)) # number is displayed with positive sign\n",
    "print('{: d}'.format(-26)) # number is displayed with negative sign\n",
    "print('{: d}'.format(26)) # number is displayed"
   ]
  },
  {
   "cell_type": "code",
   "execution_count": 17,
   "id": "d166b00e",
   "metadata": {},
   "outputs": [
    {
     "name": "stdout",
     "output_type": "stream",
     "text": [
      "+  26\n",
      "-  26\n"
     ]
    }
   ],
   "source": [
    "print('{:=+5d}'.format(26))\n",
    "print('{:=5d}'.format(-26))"
   ]
  },
  {
   "cell_type": "code",
   "execution_count": null,
   "id": "23c931c2",
   "metadata": {},
   "outputs": [],
   "source": []
  }
 ],
 "metadata": {
  "kernelspec": {
   "display_name": "Python 3",
   "language": "python",
   "name": "python3"
  },
  "language_info": {
   "codemirror_mode": {
    "name": "ipython",
    "version": 3
   },
   "file_extension": ".py",
   "mimetype": "text/x-python",
   "name": "python",
   "nbconvert_exporter": "python",
   "pygments_lexer": "ipython3",
   "version": "3.7.0"
  }
 },
 "nbformat": 4,
 "nbformat_minor": 5
}
