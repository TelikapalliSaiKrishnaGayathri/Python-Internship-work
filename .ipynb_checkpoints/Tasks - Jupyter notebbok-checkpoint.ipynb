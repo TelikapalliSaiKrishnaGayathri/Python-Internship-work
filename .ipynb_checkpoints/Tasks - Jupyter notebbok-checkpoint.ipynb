{
 "cells": [
  {
   "cell_type": "markdown",
   "id": "9e9252d3",
   "metadata": {},
   "source": [
    "## Task-1\n",
    "\n",
    "***Printing Alphabets, digits, Characters in a given input string***"
   ]
  },
  {
   "cell_type": "code",
   "execution_count": 4,
   "id": "1dee64f7",
   "metadata": {},
   "outputs": [
    {
     "name": "stdout",
     "output_type": "stream",
     "text": [
      "Enter a string: ade2563vdjh#@6tvj78\n",
      "Given string is:  ade2563vdjh#@6tvj78\n",
      "Alphabets in  ade2563vdjh#@6tvj78 is:  a d e v d j h t v j\n",
      "Digits in  ade2563vdjh#@6tvj78 is:  2 5 6 3 6 7 8\n",
      "Special characters in ade2563vdjh#@6tvj78 is:  # @\n"
     ]
    }
   ],
   "source": [
    "x = input(\"Enter a string: \")\n",
    "print(\"Given string is: \",x)\n",
    "l1=[]\n",
    "l2=[]\n",
    "l3=[]\n",
    "for i in x:\n",
    "    if(i.isalpha()):\n",
    "        l1.append(i)\n",
    "    elif(i.isdigit()):\n",
    "        l2.append(i)\n",
    "    else:\n",
    "        l3.append(i)\n",
    "a = \" \".join(l1)\n",
    "b = \" \".join(l2)\n",
    "c = \" \".join(l3)\n",
    "print(\"Alphabets in \",x,\"is: \",a)\n",
    "print(\"Digits in \",x,\"is: \",b)\n",
    "print(\"Special characters in\",x,\"is: \",c)"
   ]
  },
  {
   "cell_type": "code",
   "execution_count": null,
   "id": "c6aad2fd",
   "metadata": {},
   "outputs": [],
   "source": []
  },
  {
   "cell_type": "code",
   "execution_count": null,
   "id": "e4a3fd67",
   "metadata": {},
   "outputs": [],
   "source": []
  },
  {
   "cell_type": "code",
   "execution_count": null,
   "id": "c6a714d6",
   "metadata": {},
   "outputs": [],
   "source": []
  },
  {
   "cell_type": "markdown",
   "id": "b1925914",
   "metadata": {},
   "source": [
    "# Task \n",
    "\n",
    "***creating a package called calci that consists of different modules with arithmetic operations***"
   ]
  },
  {
   "cell_type": "code",
   "execution_count": 1,
   "id": "ffc75f0a",
   "metadata": {},
   "outputs": [],
   "source": [
    "from APSSDC.Calci import add as a # importing add module from Calci\n",
    "from APSSDC.Calci import sub as s # importing sub module from Calci\n",
    "from APSSDC.Calci import mul as m # importing mul module from Calci\n",
    "from APSSDC.Calci import div as d # importing div module from Calci"
   ]
  },
  {
   "cell_type": "code",
   "execution_count": 2,
   "id": "25476c37",
   "metadata": {},
   "outputs": [
    {
     "name": "stdout",
     "output_type": "stream",
     "text": [
      "Enter first value: 10\n",
      "Enter second value: 20\n",
      "The given numbers are 10 and 20 and its addition is : 30\n",
      "The given numbers are 10 and 20 and its subtraction is : -10\n",
      "The given numbers are 10 and 20 and its multiplication is : 200\n",
      "The given numbers are 10 and 20 and its division is : 0.5\n"
     ]
    }
   ],
   "source": [
    "x = int(input(\"Enter first value: \"))\n",
    "y = int(input(\"Enter second value: \"))\n",
    "z1 = a.add(x,y) # accessing addition value and storing in z1 variable\n",
    "z2 = s.sub(x,y) # accessing subtraction value and storing in z2 variable\n",
    "z3 = m.mul(x,y) # accessing multiplication value and storing in z3 variable\n",
    "z4 = d.div(x,y) # accessing division value and storing in z4 variable\n",
    "print(\"The given numbers are {} and {} and its addition is : {}\".format(x,y,z1))\n",
    "print(\"The given numbers are {} and {} and its subtraction is : {}\".format(x,y,z2))\n",
    "print(\"The given numbers are {} and {} and its multiplication is : {}\".format(x,y,z3))\n",
    "print(\"The given numbers are {} and {} and its division is : {}\".format(x,y,z4))"
   ]
  },
  {
   "cell_type": "code",
   "execution_count": null,
   "id": "d439e25d",
   "metadata": {},
   "outputs": [],
   "source": []
  },
  {
   "cell_type": "code",
   "execution_count": null,
   "id": "979479bc",
   "metadata": {},
   "outputs": [],
   "source": []
  },
  {
   "cell_type": "code",
   "execution_count": null,
   "id": "f2d1d34a",
   "metadata": {},
   "outputs": [],
   "source": []
  }
 ],
 "metadata": {
  "kernelspec": {
   "display_name": "Python 3",
   "language": "python",
   "name": "python3"
  },
  "language_info": {
   "codemirror_mode": {
    "name": "ipython",
    "version": 3
   },
   "file_extension": ".py",
   "mimetype": "text/x-python",
   "name": "python",
   "nbconvert_exporter": "python",
   "pygments_lexer": "ipython3",
   "version": "3.7.0"
  }
 },
 "nbformat": 4,
 "nbformat_minor": 5
}
