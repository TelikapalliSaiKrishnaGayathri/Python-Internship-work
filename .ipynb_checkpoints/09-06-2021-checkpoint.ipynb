{
 "cells": [
  {
   "cell_type": "markdown",
   "id": "ffbd76f3",
   "metadata": {},
   "source": [
    "# About Django\n",
    "\n",
    "- Django:\n",
    "\t- it is external module in python, so we have to install\n",
    "\t- it is a web development framework coded in python\n",
    "\t- While developing this django they followed a design pattern MVT"
   ]
  },
  {
   "cell_type": "markdown",
   "id": "b0a5f4cb",
   "metadata": {},
   "source": [
    "***MVC***\n",
    "\n",
    "* MVC:\n",
    "\t+ M - Model\n",
    "\t+ V - Viewr\n",
    "\t+ C - Controller\n",
    "    \n",
    "- model - It will store logics related database\n",
    "- view - It will store info related to User Interface(UI)\n",
    "- controller\n",
    "    - It will controls the both files\n",
    "    - It will logics main logics"
   ]
  },
  {
   "cell_type": "markdown",
   "id": "cbbe5f97",
   "metadata": {},
   "source": [
    "***MVT***\n",
    "\n",
    "* MVT:\n",
    "\t+ M - Model\n",
    "\t+ V - view\n",
    "\t+ T - template\n",
    "\n",
    "- model - It will store logics related database\n",
    "- view - It works like a controller\n",
    "- template - It will store info related UI(User Interface)"
   ]
  },
  {
   "cell_type": "markdown",
   "id": "1fced6d0",
   "metadata": {},
   "source": [
    "### Required softwares:\n",
    "\n",
    "- Install Django\n",
    "\n",
    "    -To install a Django, open command prompt and enter the foloowing coommand\n",
    "        ``` pip install django ```\n",
    "        \n",
    "    -To install the specific version of Django:\n",
    "        ``` pip install django == versionofDjango ```\n",
    "    \n",
    "    -To check the version of Django:\n",
    "        ```django-admin --version```\n",
    "        \n",
    "- Install any tool[sublime tool]"
   ]
  },
  {
   "cell_type": "code",
   "execution_count": null,
   "id": "514b4d1c",
   "metadata": {},
   "outputs": [],
   "source": []
  }
 ],
 "metadata": {
  "kernelspec": {
   "display_name": "Python 3",
   "language": "python",
   "name": "python3"
  },
  "language_info": {
   "codemirror_mode": {
    "name": "ipython",
    "version": 3
   },
   "file_extension": ".py",
   "mimetype": "text/x-python",
   "name": "python",
   "nbconvert_exporter": "python",
   "pygments_lexer": "ipython3",
   "version": "3.7.0"
  }
 },
 "nbformat": 4,
 "nbformat_minor": 5
}
