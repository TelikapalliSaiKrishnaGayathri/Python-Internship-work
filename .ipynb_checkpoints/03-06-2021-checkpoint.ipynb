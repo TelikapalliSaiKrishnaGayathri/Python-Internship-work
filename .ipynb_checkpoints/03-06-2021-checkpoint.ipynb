{
 "cells": [
  {
   "cell_type": "markdown",
   "id": "1dd28378",
   "metadata": {},
   "source": [
    "# Set"
   ]
  },
  {
   "cell_type": "code",
   "execution_count": 3,
   "id": "db1a55a0",
   "metadata": {},
   "outputs": [
    {
     "name": "stdout",
     "output_type": "stream",
     "text": [
      "{'krishna', 67.9, 12, 'a'}\n"
     ]
    }
   ],
   "source": [
    "s = {'a',12,'krishna',67.90,'a'} #set doesn't allow duplicate values\n",
    "print(s)"
   ]
  },
  {
   "cell_type": "code",
   "execution_count": 4,
   "id": "bd6478cd",
   "metadata": {},
   "outputs": [
    {
     "name": "stdout",
     "output_type": "stream",
     "text": [
      "{} <class 'dict'>\n",
      "{2} <class 'set'>\n"
     ]
    }
   ],
   "source": [
    "a = {}\n",
    "b = {2}\n",
    "print(a,type(a))\n",
    "print(b,type(b))"
   ]
  },
  {
   "cell_type": "code",
   "execution_count": 5,
   "id": "9ff7aeda",
   "metadata": {},
   "outputs": [
    {
     "name": "stdout",
     "output_type": "stream",
     "text": [
      "['__and__', '__class__', '__contains__', '__delattr__', '__dir__', '__doc__', '__eq__', '__format__', '__ge__', '__getattribute__', '__gt__', '__hash__', '__iand__', '__init__', '__init_subclass__', '__ior__', '__isub__', '__iter__', '__ixor__', '__le__', '__len__', '__lt__', '__ne__', '__new__', '__or__', '__rand__', '__reduce__', '__reduce_ex__', '__repr__', '__ror__', '__rsub__', '__rxor__', '__setattr__', '__sizeof__', '__str__', '__sub__', '__subclasshook__', '__xor__', 'add', 'clear', 'copy', 'difference', 'difference_update', 'discard', 'intersection', 'intersection_update', 'isdisjoint', 'issubset', 'issuperset', 'pop', 'remove', 'symmetric_difference', 'symmetric_difference_update', 'union', 'update']\n"
     ]
    }
   ],
   "source": [
    "print(dir(set))"
   ]
  },
  {
   "cell_type": "code",
   "execution_count": 16,
   "id": "e41b30c1",
   "metadata": {},
   "outputs": [
    {
     "name": "stdout",
     "output_type": "stream",
     "text": [
      "{40, 10, 20, 'tens', 30}\n"
     ]
    }
   ],
   "source": [
    "s1 = {10,20,30,40}\n",
    "s1.add(\"tens\") # we can't determine particular position to add element in a set\n",
    "print(s1)"
   ]
  },
  {
   "cell_type": "markdown",
   "id": "a0ba0a6a",
   "metadata": {},
   "source": [
    "### Slicing is not possible n case of sets"
   ]
  },
  {
   "cell_type": "code",
   "execution_count": 17,
   "id": "6f7d58c3",
   "metadata": {},
   "outputs": [
    {
     "name": "stdout",
     "output_type": "stream",
     "text": [
      "{40, 10, 20, 'tens', 30}\n",
      "{10, 20, 'tens', 30}\n"
     ]
    }
   ],
   "source": [
    "#using pop() function\n",
    "\n",
    "print(s1)\n",
    "s1.pop() # removes an element from a set\n",
    "print(s1) # any random element can be removed"
   ]
  },
  {
   "cell_type": "code",
   "execution_count": 14,
   "id": "02e6e87b",
   "metadata": {},
   "outputs": [
    {
     "name": "stdout",
     "output_type": "stream",
     "text": [
      "{100.0, 26, 'k', 'a'}\n",
      "{100.0, 26, 'a'}\n"
     ]
    }
   ],
   "source": [
    "# using remove() function\n",
    "\n",
    "s2 = {'a',26,'k',100.0}\n",
    "print(s2)\n",
    "s2.remove('k')\n",
    "print(s2)"
   ]
  },
  {
   "cell_type": "code",
   "execution_count": 15,
   "id": "e4bb99da",
   "metadata": {},
   "outputs": [
    {
     "name": "stdout",
     "output_type": "stream",
     "text": [
      "{1, 2, 3, 4, 5}\n",
      "{1, 2, 3, 4, 5, 7, 8, 9}\n",
      "{1, 2, 3, 4, 5, 7, 8, 9}\n",
      "{1, 2, 3, 4, 5}\n",
      "{1, 2, 3, 4, 5, 7, 8, 9}\n"
     ]
    }
   ],
   "source": [
    "# union of sets\n",
    "\n",
    "s3 = {1,2,3,4,5}\n",
    "s4 = {2,3,4,5,5,7,8,9,2,1,1}\n",
    "print(s3)\n",
    "print(s4)\n",
    "print(s3.union(s4))\n",
    "print(s3)\n",
    "print(s4)"
   ]
  },
  {
   "cell_type": "markdown",
   "id": "26c06e24",
   "metadata": {},
   "source": [
    "# Dictionary\n",
    "    -key:value pairs"
   ]
  },
  {
   "cell_type": "code",
   "execution_count": 18,
   "id": "2079f5ad",
   "metadata": {},
   "outputs": [
    {
     "name": "stdout",
     "output_type": "stream",
     "text": [
      "{'name': ('Krishna', 'Gayathri', 'Tejaswini'), 'age': 19} <class 'dict'>\n"
     ]
    }
   ],
   "source": [
    "d = {'name':(\"Krishna\",\"Gayathri\",\"Tejaswini\"),'age':19}\n",
    "print(d,type(d))"
   ]
  },
  {
   "cell_type": "code",
   "execution_count": 20,
   "id": "541b56b1",
   "metadata": {},
   "outputs": [
    {
     "name": "stdout",
     "output_type": "stream",
     "text": [
      "Krishna\n"
     ]
    }
   ],
   "source": [
    "print(d['name'][0])"
   ]
  },
  {
   "cell_type": "code",
   "execution_count": 21,
   "id": "0c5f82d4",
   "metadata": {},
   "outputs": [
    {
     "name": "stdout",
     "output_type": "stream",
     "text": [
      "['__class__', '__contains__', '__delattr__', '__delitem__', '__dir__', '__doc__', '__eq__', '__format__', '__ge__', '__getattribute__', '__getitem__', '__gt__', '__hash__', '__init__', '__init_subclass__', '__iter__', '__le__', '__len__', '__lt__', '__ne__', '__new__', '__reduce__', '__reduce_ex__', '__repr__', '__setattr__', '__setitem__', '__sizeof__', '__str__', '__subclasshook__', 'clear', 'copy', 'fromkeys', 'get', 'items', 'keys', 'pop', 'popitem', 'setdefault', 'update', 'values']\n"
     ]
    }
   ],
   "source": [
    "print(dir(dict))"
   ]
  },
  {
   "cell_type": "code",
   "execution_count": 22,
   "id": "83dd4b0c",
   "metadata": {},
   "outputs": [
    {
     "name": "stdout",
     "output_type": "stream",
     "text": [
      "dict_keys(['name', 'age'])\n"
     ]
    }
   ],
   "source": [
    "print(d.keys()) # displays keys"
   ]
  },
  {
   "cell_type": "code",
   "execution_count": 23,
   "id": "08670993",
   "metadata": {},
   "outputs": [
    {
     "name": "stdout",
     "output_type": "stream",
     "text": [
      "dict_values([('Krishna', 'Gayathri', 'Tejaswini'), 19])\n"
     ]
    }
   ],
   "source": [
    "print(d.values()) # displays values"
   ]
  },
  {
   "cell_type": "code",
   "execution_count": 49,
   "id": "9728da1f",
   "metadata": {},
   "outputs": [
    {
     "name": "stdout",
     "output_type": "stream",
     "text": [
      "{'name': 'Gayathri', 'Age': 19, 'branch': 'CSE', 'rollnum': 526}\n"
     ]
    }
   ],
   "source": [
    "dict1 = {'name':\"Gayathri\",'Age':19,'branch':\"CSE\",'rollnum':526}\n",
    "print(dict1)"
   ]
  },
  {
   "cell_type": "code",
   "execution_count": 52,
   "id": "efbe9f44",
   "metadata": {},
   "outputs": [
    {
     "name": "stdout",
     "output_type": "stream",
     "text": [
      "('name', 'Gayathri')\n",
      "('Age', 19)\n",
      "('branch', 'CSE')\n",
      "('rollnum', 526)\n"
     ]
    }
   ],
   "source": [
    "for i in dict1.items():\n",
    "    print(i)"
   ]
  },
  {
   "cell_type": "code",
   "execution_count": 25,
   "id": "9f9ae772",
   "metadata": {},
   "outputs": [
    {
     "name": "stdout",
     "output_type": "stream",
     "text": [
      "dict_items([('name', 'Gayathri'), ('Age', 19), ('branch', 'CSE'), ('rollnum', 526)])\n"
     ]
    }
   ],
   "source": [
    "print(dict1.items()) # displays key value pairs in a list-tuple format"
   ]
  },
  {
   "cell_type": "code",
   "execution_count": 26,
   "id": "46d697c7",
   "metadata": {},
   "outputs": [
    {
     "name": "stdout",
     "output_type": "stream",
     "text": [
      "dict_items([('name', ('Krishna', 'Gayathri', 'Tejaswini')), ('age', 19)])\n"
     ]
    }
   ],
   "source": [
    "print(d.items())"
   ]
  },
  {
   "cell_type": "code",
   "execution_count": 27,
   "id": "3574658e",
   "metadata": {},
   "outputs": [
    {
     "name": "stdout",
     "output_type": "stream",
     "text": [
      "526\n",
      "Gayathri\n"
     ]
    }
   ],
   "source": [
    "print(dict1.get('rollnum')) # displays value of that particular key\n",
    "print(dict1.get('name'))"
   ]
  },
  {
   "cell_type": "code",
   "execution_count": 28,
   "id": "c9fd0737",
   "metadata": {},
   "outputs": [
    {
     "name": "stdout",
     "output_type": "stream",
     "text": [
      "{'name': 'Gayathri', 'Age': 19, 'branch': 'CSE', 'rollnum': 526}\n",
      "{'name': ['Krishna', 'Gayathri'], 'Age': 19, 'branch': 'CSE', 'rollnum': 526}\n"
     ]
    }
   ],
   "source": [
    "print(dict1)\n",
    "dict1['name'] = ['Krishna','Gayathri']\n",
    "print(dict1)"
   ]
  },
  {
   "cell_type": "code",
   "execution_count": 29,
   "id": "be1df256",
   "metadata": {},
   "outputs": [
    {
     "name": "stdout",
     "output_type": "stream",
     "text": [
      "{'name': ['Krishna', 'Gayathri'], 'Age': 19, 'branch': 'CSE', 'rollnum': 526}\n",
      "{'name': ['Krishna', 'Gayathri'], 'Age': 19, 'branch': 'CSE', 'rollnum': 526, 'null': None}\n"
     ]
    }
   ],
   "source": [
    "print(dict1)\n",
    "dict1.setdefault('null')\n",
    "print(dict1)"
   ]
  },
  {
   "cell_type": "code",
   "execution_count": 34,
   "id": "3f7c4679",
   "metadata": {},
   "outputs": [
    {
     "name": "stdout",
     "output_type": "stream",
     "text": [
      "{'name': ['Krishna', 'Gayathri'], 'Age': 19, 'branch': 'CSE', 'rollnum': 526, 'null': None}\n",
      "{'name': ['Krishna', 'Gayathri'], 'Age': 19, 'branch': 'CSE', 'rollnum': 526, 'null': 'college'}\n"
     ]
    }
   ],
   "source": [
    "print(dict1)\n",
    "dict1.update({'null':'college'})\n",
    "print(dict1)"
   ]
  },
  {
   "cell_type": "code",
   "execution_count": null,
   "id": "94fde5c8",
   "metadata": {},
   "outputs": [],
   "source": [
    "dict5={}"
   ]
  },
  {
   "cell_type": "code",
   "execution_count": 35,
   "id": "ea691600",
   "metadata": {},
   "outputs": [
    {
     "name": "stdout",
     "output_type": "stream",
     "text": [
      "{'name': ['Krishna', 'Gayathri'], 'Age': 19, 'branch': 'CSE', 'rollnum': 526, 'null': 'college'}\n",
      "{'name': ['Krishna', 'Gayathri'], 'Age': 19, 'branch': 'CSE', 'rollnum': 526}\n"
     ]
    }
   ],
   "source": [
    "print(dict1)\n",
    "dict1.pop('null') # removes specified item\n",
    "print(dict1)"
   ]
  },
  {
   "cell_type": "code",
   "execution_count": 36,
   "id": "376ef5e9",
   "metadata": {},
   "outputs": [
    {
     "name": "stdout",
     "output_type": "stream",
     "text": [
      "{'name': ['Krishna', 'Gayathri'], 'Age': 19, 'branch': 'CSE', 'rollnum': 526}\n",
      "('rollnum', 526)\n",
      "{'name': ['Krishna', 'Gayathri'], 'Age': 19, 'branch': 'CSE'}\n"
     ]
    }
   ],
   "source": [
    "print(dict1)\n",
    "print(dict1.popitem()) # removes last item in the dictionary\n",
    "print(dict1)"
   ]
  },
  {
   "cell_type": "code",
   "execution_count": 44,
   "id": "5161d484",
   "metadata": {},
   "outputs": [
    {
     "name": "stdout",
     "output_type": "stream",
     "text": [
      "[1, 2, 3, 4]\n",
      "['a', 'b', 'c', 'd']\n",
      "{'a': None, 'b': None, 'c': None, 'd': None}\n",
      "{1: None, 2: None, 3: None, 4: None}\n"
     ]
    }
   ],
   "source": [
    "# Using fromkeys\n",
    "\n",
    "k = [1,2,3,4]\n",
    "v = ['a','b','c','d']\n",
    "print(k)\n",
    "print(v)\n",
    "dict2={}\n",
    "dict2 = dict.fromkeys(k)\n",
    "print(dict.fromkeys(v))\n",
    "print(dict2)"
   ]
  },
  {
   "cell_type": "code",
   "execution_count": 45,
   "id": "53345535",
   "metadata": {},
   "outputs": [
    {
     "name": "stdout",
     "output_type": "stream",
     "text": [
      "{'maths': [90, 89, 87], 'python': [90, 89, 87], 'C': [90, 89, 87]}\n"
     ]
    }
   ],
   "source": [
    "marks = {}.fromkeys(['maths','python','C'],[90,89,87])\n",
    "print(marks)"
   ]
  },
  {
   "cell_type": "code",
   "execution_count": 47,
   "id": "5f3efe68",
   "metadata": {
    "scrolled": true
   },
   "outputs": [
    {
     "name": "stdout",
     "output_type": "stream",
     "text": [
      "{'maths': 90, 'python': 90, 'C': 90}\n"
     ]
    }
   ],
   "source": [
    "marks = {}.fromkeys(['maths','python','C'],90)\n",
    "print(marks)"
   ]
  },
  {
   "cell_type": "markdown",
   "id": "2c9ab111",
   "metadata": {},
   "source": [
    "# Task - contact application"
   ]
  },
  {
   "cell_type": "code",
   "execution_count": 61,
   "id": "25497b62",
   "metadata": {},
   "outputs": [
    {
     "name": "stdout",
     "output_type": "stream",
     "text": [
      "1.Enter new record \n",
      " 2.Display all records \n",
      " 3.Update record \n",
      " 4.Delete record\n",
      "Select any option from above for Contact Application: 1\n",
      "Dictionary is empty! Enter no. of records you want to create: 4\n",
      "Enter your name: aaa\n",
      "Enter your mobile number: 11111\n",
      "Enter your name: bbb\n",
      "Enter your mobile number: 6666\n",
      "Enter your name: ccc\n",
      "Enter your mobile number: 7777\n",
      "Enter your name: aaa\n",
      "aaa Already exists\n",
      "Details Saved successfully...\n",
      "Entered records are: \n",
      "Name \tmobile number\n",
      "aaa \t 11111\n",
      "bbb \t 6666\n",
      "ccc \t 7777\n",
      "Press 2 to display records\n",
      "Press 3 to update a record\n",
      "Press 4 to delete record\n",
      "Enter your Choice: 4\n",
      "Enter a name to delete in the record: aaa\n",
      "record deleted..\n",
      "After deletion, the records are: \n",
      "Name \tmobile number\n",
      "bbb \t 6666\n",
      "ccc \t 7777\n"
     ]
    }
   ],
   "source": [
    "print(\"1.Enter new record \\n 2.Display all records \\n 3.Update record \\n 4.Delete record\")\n",
    "n = int(input(\"Select any option from above for Contact Application: \"))\n",
    "d1={}\n",
    "d2={}\n",
    "#Creating records in a empty dictionary\n",
    "if(n==1 or n==3):\n",
    "    m1 = int(input(\"Dictionary is empty! Enter no. of records you want to create: \"))\n",
    "    # Creating multiple records using for loop\n",
    "    for i in range(1, m1+1):\n",
    "        name = input(\"Enter your name: \")\n",
    "        if name in d1:\n",
    "            print(name,\"Already exists\")\n",
    "        else:\n",
    "            num = int(input(\"Enter your mobile number: \"))\n",
    "            d1[name] = num\n",
    "    print(\"Details Saved successfully...\")\n",
    "    print(\"Entered records are: \")\n",
    "    print(\"Name \\tmobile number\")\n",
    "    for name,num in sorted(d1.items()):\n",
    "        print(name,\"\\t\",num)\n",
    "    print(\"Press 2 to display records\\nPress 3 to update a record\\nPress 4 to delete record\")\n",
    "    m = int(input(\"Enter your Choice: \"))\n",
    "    # display or update or deletion based on choice\n",
    "    if(m==2):\n",
    "        print(\"Displaying Records...\")\n",
    "        print(\"Name \\tmobile number\")\n",
    "        for name,num in sorted(d1.items()):\n",
    "            print(name,\"\\t\",num)\n",
    "    # updating record in existing dictionary\n",
    "    elif(m==3):\n",
    "        name = input(\"Enter your name: \")\n",
    "        if name in d1:\n",
    "            print(name,\"Record already exists.\")\n",
    "        else:\n",
    "            num = int(input(\"Enter your mobile number: \"))\n",
    "            d2[name] = num\n",
    "            d1.update(d2)\n",
    "            print(\"Record successfully Updated...\")\n",
    "        print(\"After updation, the records are: \")\n",
    "        print(\"Name \\tmobile number\")\n",
    "        for name,num in sorted(d1.items()):\n",
    "            print(name,\"\\t\",num)\n",
    "    # deleting record in dictionary\n",
    "    elif(m==4):\n",
    "        name1 = input(\"Enter a name to delete in the record: \")\n",
    "        if name1 in d1:\n",
    "            d1.pop(name1)\n",
    "            print(\"record deleted..\")\n",
    "            print(\"After deletion, the records are: \")\n",
    "            print(\"Name \\tmobile number\")\n",
    "            for name,num in sorted(d1.items()):\n",
    "                print(name,\"\\t\",num)\n",
    "        else:\n",
    "            print(\"Name doesn't exist\")\n",
    "elif(n==2 or n==4):\n",
    "    print(\"Empty record\")\n",
    "else:\n",
    "    print(\"Please enter a right option\")"
   ]
  },
  {
   "cell_type": "code",
   "execution_count": null,
   "id": "2f17908c",
   "metadata": {},
   "outputs": [],
   "source": []
  }
 ],
 "metadata": {
  "kernelspec": {
   "display_name": "Python 3",
   "language": "python",
   "name": "python3"
  },
  "language_info": {
   "codemirror_mode": {
    "name": "ipython",
    "version": 3
   },
   "file_extension": ".py",
   "mimetype": "text/x-python",
   "name": "python",
   "nbconvert_exporter": "python",
   "pygments_lexer": "ipython3",
   "version": "3.7.0"
  }
 },
 "nbformat": 4,
 "nbformat_minor": 5
}
