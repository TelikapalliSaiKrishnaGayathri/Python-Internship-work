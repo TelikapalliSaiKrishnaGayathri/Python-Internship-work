{
 "cells": [
  {
   "cell_type": "markdown",
   "id": "66e6b213",
   "metadata": {},
   "source": [
    "# OOPS\n",
    "\n",
    "- class\n",
    "- method\n",
    "- object\n",
    "- constructor\n",
    "- packages and modules\n",
    "- Inheritance"
   ]
  },
  {
   "cell_type": "markdown",
   "id": "61081470",
   "metadata": {},
   "source": [
    "## Class\n",
    "    - Class is a collection of variables and methods"
   ]
  },
  {
   "cell_type": "markdown",
   "id": "b86399bb",
   "metadata": {},
   "source": [
    "### Rules to define a class:\n",
    "\n",
    "- Class should not start with a number\n",
    "- Not to use keywords as class names"
   ]
  },
  {
   "cell_type": "code",
   "execution_count": 17,
   "id": "7af0db9d",
   "metadata": {},
   "outputs": [],
   "source": [
    "# Creating a class name Hi\n",
    "\n",
    "class Hi:\n",
    "    name, rollno = \"APSSDC\",526\n",
    "    def msg():\n",
    "        print(\"Hello! I am from APSSDC\")"
   ]
  },
  {
   "cell_type": "code",
   "execution_count": 2,
   "id": "956f69c7",
   "metadata": {},
   "outputs": [
    {
     "data": {
      "text/plain": [
       "526"
      ]
     },
     "execution_count": 2,
     "metadata": {},
     "output_type": "execute_result"
    }
   ],
   "source": [
    "Hi.rollno"
   ]
  },
  {
   "cell_type": "code",
   "execution_count": 3,
   "id": "370371e8",
   "metadata": {},
   "outputs": [
    {
     "data": {
      "text/plain": [
       "'APSSDC'"
      ]
     },
     "execution_count": 3,
     "metadata": {},
     "output_type": "execute_result"
    }
   ],
   "source": [
    "Hi.name"
   ]
  },
  {
   "cell_type": "markdown",
   "id": "25e45501",
   "metadata": {},
   "source": [
    "### Object\n",
    "    - Instance of a class"
   ]
  },
  {
   "cell_type": "code",
   "execution_count": 18,
   "id": "09190cb2",
   "metadata": {},
   "outputs": [
    {
     "data": {
      "text/plain": [
       "'APSSDC'"
      ]
     },
     "execution_count": 18,
     "metadata": {},
     "output_type": "execute_result"
    }
   ],
   "source": [
    "obj = Hi  # creating a object\n",
    "obj.name"
   ]
  },
  {
   "cell_type": "code",
   "execution_count": 19,
   "id": "b4b60c4d",
   "metadata": {},
   "outputs": [
    {
     "data": {
      "text/plain": [
       "526"
      ]
     },
     "execution_count": 19,
     "metadata": {},
     "output_type": "execute_result"
    }
   ],
   "source": [
    "obj.rollno"
   ]
  },
  {
   "cell_type": "code",
   "execution_count": 20,
   "id": "cd20c6b1",
   "metadata": {},
   "outputs": [
    {
     "name": "stdout",
     "output_type": "stream",
     "text": [
      "Hello! I am from APSSDC\n"
     ]
    }
   ],
   "source": [
    "obj.msg()"
   ]
  },
  {
   "cell_type": "code",
   "execution_count": 37,
   "id": "35a4218b",
   "metadata": {},
   "outputs": [],
   "source": [
    "class Calci:\n",
    "    def add(n1,n2):\n",
    "        return n1+n2\n",
    "    def sub(n1, n2):\n",
    "        return n1-n2\n",
    "    def mul(n1,n2):\n",
    "        return n1*n2\n",
    "    def div(n1,n2):\n",
    "        return n1/n2\n",
    "    def floordiv(n1, n2):\n",
    "        return n1//n2\n",
    "    def exp(n1,n2):\n",
    "        return n1**n2"
   ]
  },
  {
   "cell_type": "code",
   "execution_count": 38,
   "id": "2f611717",
   "metadata": {},
   "outputs": [],
   "source": [
    "cal = Calci"
   ]
  },
  {
   "cell_type": "code",
   "execution_count": 33,
   "id": "f3703b1a",
   "metadata": {},
   "outputs": [
    {
     "data": {
      "text/plain": [
       "5"
      ]
     },
     "execution_count": 33,
     "metadata": {},
     "output_type": "execute_result"
    }
   ],
   "source": [
    "cal.add(2,3)"
   ]
  },
  {
   "cell_type": "code",
   "execution_count": 34,
   "id": "947e55f2",
   "metadata": {},
   "outputs": [
    {
     "data": {
      "text/plain": [
       "-9"
      ]
     },
     "execution_count": 34,
     "metadata": {},
     "output_type": "execute_result"
    }
   ],
   "source": [
    "cal.sub(0,9)"
   ]
  },
  {
   "cell_type": "code",
   "execution_count": 39,
   "id": "2708c098",
   "metadata": {},
   "outputs": [
    {
     "data": {
      "text/plain": [
       "8"
      ]
     },
     "execution_count": 39,
     "metadata": {},
     "output_type": "execute_result"
    }
   ],
   "source": [
    "cal.exp(2,3)"
   ]
  },
  {
   "cell_type": "code",
   "execution_count": 41,
   "id": "2452c21b",
   "metadata": {},
   "outputs": [
    {
     "name": "stdout",
     "output_type": "stream",
     "text": [
      "Enter first value: 23\n",
      "Enter second value: 23\n"
     ]
    }
   ],
   "source": [
    "class Calci:\n",
    "    def add(n1,n2):\n",
    "        return n1+n2\n",
    "    def sub(n1, n2):\n",
    "        return n1-n2\n",
    "    def mul(n1,n2):\n",
    "        return n1*n2\n",
    "    def div(n1,n2):\n",
    "        return n1/n2\n",
    "    def floordiv(n1, n2):\n",
    "        return n1//n2\n",
    "    def exp(n1,n2):\n",
    "        return n1**n2\n",
    "    \n",
    "    "
   ]
  },
  {
   "cell_type": "code",
   "execution_count": 43,
   "id": "7a894a02",
   "metadata": {},
   "outputs": [
    {
     "name": "stdout",
     "output_type": "stream",
     "text": [
      "Enter first value: 10\n",
      "Enter second value: 2\n",
      "12\n",
      "100\n"
     ]
    }
   ],
   "source": [
    "a = int(input(\"Enter first value: \"))\n",
    "b = int(input(\"Enter second value: \"))\n",
    "calc = Calci # creating an object named calc\n",
    "print(calc.add(a,b))\n",
    "print(calc.exp(a,b))"
   ]
  },
  {
   "cell_type": "markdown",
   "id": "4dbc2273",
   "metadata": {},
   "source": [
    "### Constructor\n",
    "- It is a special method in python i.e __ init __()\n",
    "- It will Execute while creating objects\n",
    "- We have 2 different types of constructors\n",
    "    - default\n",
    "    - Parameterised"
   ]
  },
  {
   "cell_type": "code",
   "execution_count": 46,
   "id": "22891e52",
   "metadata": {},
   "outputs": [],
   "source": [
    "# there is a constructor inside this class\n",
    "class Hello:\n",
    "    def __init__(self):      ## here 'self' is a default parameter\n",
    "        print(\"Hi! I am default constructor\")"
   ]
  },
  {
   "cell_type": "code",
   "execution_count": 48,
   "id": "c26210fa",
   "metadata": {},
   "outputs": [
    {
     "name": "stdout",
     "output_type": "stream",
     "text": [
      "Hi! I am default constructor\n"
     ]
    }
   ],
   "source": [
    "obj = Hello()   ## Intialising object"
   ]
  },
  {
   "cell_type": "code",
   "execution_count": 51,
   "id": "46bc7dc9",
   "metadata": {},
   "outputs": [
    {
     "name": "stdout",
     "output_type": "stream",
     "text": [
      "10 20\n"
     ]
    }
   ],
   "source": [
    "# Example for parameterised constructor\n",
    "# here fles acts as a self parameter\n",
    "\n",
    "class Hello1:\n",
    "    def __init__(fles, val1, val2):\n",
    "        print(val1, val2)\n",
    "        \n",
    "obj = Hello1(10,20) # 10 is stored in val1, 20 is stored in val2"
   ]
  },
  {
   "cell_type": "code",
   "execution_count": 76,
   "id": "d2fd6a15",
   "metadata": {},
   "outputs": [],
   "source": [
    "# using fles as a current refering object\n",
    "class Hello1:\n",
    "    def __init__(fles, val1, val2):\n",
    "        fles.val1 = val1\n",
    "        fles.val2 = val2\n",
    "        \n",
    "    def show(fles):\n",
    "        print(fles.val1, fles.val2, fles.val3, fles.val4)\n",
    "        \n",
    "    def add(fles):\n",
    "        return fles.val1+fles.val2\n",
    "    \n",
    "    def profile(fles, val3, val4):\n",
    "        fles.val3 = val3    # here val3 in RHS is user passed value\n",
    "        fles.val4 = val4"
   ]
  },
  {
   "cell_type": "code",
   "execution_count": 77,
   "id": "c7a78201",
   "metadata": {},
   "outputs": [],
   "source": [
    "obj = Hello1(10,20) "
   ]
  },
  {
   "cell_type": "code",
   "execution_count": 78,
   "id": "6c775bda",
   "metadata": {},
   "outputs": [
    {
     "ename": "AttributeError",
     "evalue": "'Hello1' object has no attribute 'val3'",
     "output_type": "error",
     "traceback": [
      "\u001b[1;31m---------------------------------------------------------------------------\u001b[0m",
      "\u001b[1;31mAttributeError\u001b[0m                            Traceback (most recent call last)",
      "\u001b[1;32m<ipython-input-78-3a5b94642195>\u001b[0m in \u001b[0;36m<module>\u001b[1;34m\u001b[0m\n\u001b[1;32m----> 1\u001b[1;33m \u001b[0mobj\u001b[0m\u001b[1;33m.\u001b[0m\u001b[0mshow\u001b[0m\u001b[1;33m(\u001b[0m\u001b[1;33m)\u001b[0m\u001b[1;33m\u001b[0m\u001b[0m\n\u001b[0m",
      "\u001b[1;32m<ipython-input-76-364f459d8b36>\u001b[0m in \u001b[0;36mshow\u001b[1;34m(fles)\u001b[0m\n\u001b[0;32m      6\u001b[0m \u001b[1;33m\u001b[0m\u001b[0m\n\u001b[0;32m      7\u001b[0m     \u001b[1;32mdef\u001b[0m \u001b[0mshow\u001b[0m\u001b[1;33m(\u001b[0m\u001b[0mfles\u001b[0m\u001b[1;33m)\u001b[0m\u001b[1;33m:\u001b[0m\u001b[1;33m\u001b[0m\u001b[0m\n\u001b[1;32m----> 8\u001b[1;33m         \u001b[0mprint\u001b[0m\u001b[1;33m(\u001b[0m\u001b[0mfles\u001b[0m\u001b[1;33m.\u001b[0m\u001b[0mval1\u001b[0m\u001b[1;33m,\u001b[0m \u001b[0mfles\u001b[0m\u001b[1;33m.\u001b[0m\u001b[0mval2\u001b[0m\u001b[1;33m,\u001b[0m \u001b[0mfles\u001b[0m\u001b[1;33m.\u001b[0m\u001b[0mval3\u001b[0m\u001b[1;33m,\u001b[0m \u001b[0mfles\u001b[0m\u001b[1;33m.\u001b[0m\u001b[0mval4\u001b[0m\u001b[1;33m)\u001b[0m\u001b[1;33m\u001b[0m\u001b[0m\n\u001b[0m\u001b[0;32m      9\u001b[0m \u001b[1;33m\u001b[0m\u001b[0m\n\u001b[0;32m     10\u001b[0m     \u001b[1;32mdef\u001b[0m \u001b[0madd\u001b[0m\u001b[1;33m(\u001b[0m\u001b[0mfles\u001b[0m\u001b[1;33m)\u001b[0m\u001b[1;33m:\u001b[0m\u001b[1;33m\u001b[0m\u001b[0m\n",
      "\u001b[1;31mAttributeError\u001b[0m: 'Hello1' object has no attribute 'val3'"
     ]
    }
   ],
   "source": [
    "obj.show()"
   ]
  },
  {
   "cell_type": "code",
   "execution_count": 75,
   "id": "ef6875e8",
   "metadata": {},
   "outputs": [
    {
     "data": {
      "text/plain": [
       "30"
      ]
     },
     "execution_count": 75,
     "metadata": {},
     "output_type": "execute_result"
    }
   ],
   "source": [
    "obj.add()"
   ]
  },
  {
   "cell_type": "code",
   "execution_count": 86,
   "id": "16509243",
   "metadata": {},
   "outputs": [],
   "source": [
    "# using fles as a current refering object\n",
    "class Hello1:\n",
    "    def __init__(fles, val1, val2):\n",
    "        fles.val1 = val1\n",
    "        fles.val2 = val2\n",
    "        \n",
    "    def add(fles):\n",
    "        return fles.val1+fles.val2\n",
    "    \n",
    "    def profile(fles, val3, val4):\n",
    "        fles.val3 = val3    # here val3 in RHS is user passed value\n",
    "        fles.val4 = val4\n",
    "    \n",
    "    def show(fles):\n",
    "        print(fles.val1, fles.val2, fles.val3, fles.val4)\n",
    "        "
   ]
  },
  {
   "cell_type": "code",
   "execution_count": 87,
   "id": "5b0dec00",
   "metadata": {},
   "outputs": [],
   "source": [
    "obj1 = Hello1(1,2)"
   ]
  },
  {
   "cell_type": "code",
   "execution_count": 89,
   "id": "1c99835c",
   "metadata": {},
   "outputs": [],
   "source": [
    "obj1.profile(2,3)"
   ]
  },
  {
   "cell_type": "code",
   "execution_count": 90,
   "id": "4e4e730a",
   "metadata": {},
   "outputs": [
    {
     "name": "stdout",
     "output_type": "stream",
     "text": [
      "1 2 2 3\n"
     ]
    }
   ],
   "source": [
    "obj1.show()"
   ]
  },
  {
   "cell_type": "code",
   "execution_count": 96,
   "id": "e7baea0f",
   "metadata": {},
   "outputs": [],
   "source": [
    "# Packages and modules \n",
    "\n",
    "from Package import mylogics"
   ]
  },
  {
   "cell_type": "code",
   "execution_count": 93,
   "id": "5fa15679",
   "metadata": {},
   "outputs": [
    {
     "data": {
      "text/plain": [
       "['Calsi',\n",
       " 'MyMath',\n",
       " '__builtins__',\n",
       " '__cached__',\n",
       " '__doc__',\n",
       " '__file__',\n",
       " '__loader__',\n",
       " '__name__',\n",
       " '__package__',\n",
       " '__spec__']"
      ]
     },
     "execution_count": 93,
     "metadata": {},
     "output_type": "execute_result"
    }
   ],
   "source": [
    "dir(mylogics)"
   ]
  },
  {
   "cell_type": "code",
   "execution_count": 99,
   "id": "97ec301f",
   "metadata": {},
   "outputs": [
    {
     "data": {
      "text/plain": [
       "True"
      ]
     },
     "execution_count": 99,
     "metadata": {},
     "output_type": "execute_result"
    }
   ],
   "source": [
    "# calling functions\n",
    "\n",
    "mylogics.MyMath.isEven(26)"
   ]
  },
  {
   "cell_type": "code",
   "execution_count": 100,
   "id": "97c29cee",
   "metadata": {},
   "outputs": [],
   "source": [
    "from Package.mylogics import MyMath"
   ]
  },
  {
   "cell_type": "code",
   "execution_count": 101,
   "id": "f95a6954",
   "metadata": {},
   "outputs": [],
   "source": [
    "obj = MyMath # creating a object"
   ]
  },
  {
   "cell_type": "code",
   "execution_count": 102,
   "id": "1d45313f",
   "metadata": {},
   "outputs": [
    {
     "data": {
      "text/plain": [
       "False"
      ]
     },
     "execution_count": 102,
     "metadata": {},
     "output_type": "execute_result"
    }
   ],
   "source": [
    "obj.isPrime(26)"
   ]
  },
  {
   "cell_type": "code",
   "execution_count": 104,
   "id": "4ee2ab46",
   "metadata": {},
   "outputs": [],
   "source": [
    "from Package.mylogics import Calsi"
   ]
  },
  {
   "cell_type": "code",
   "execution_count": 106,
   "id": "e521d34a",
   "metadata": {},
   "outputs": [],
   "source": [
    "obj1 = Calsi"
   ]
  },
  {
   "cell_type": "code",
   "execution_count": 107,
   "id": "0861e4e7",
   "metadata": {},
   "outputs": [
    {
     "data": {
      "text/plain": [
       "5"
      ]
     },
     "execution_count": 107,
     "metadata": {},
     "output_type": "execute_result"
    }
   ],
   "source": [
    "obj1.add(2,3)"
   ]
  },
  {
   "cell_type": "markdown",
   "id": "82bbeaa1",
   "metadata": {},
   "source": [
    "### Inheritance\n",
    "    - Inheriting properties from parent to child\n",
    "    - acquiring properties from one class to another class\n",
    "    - types of inheritance\n",
    "        - Single\n",
    "        - Multiple\n",
    "        - Multilevel\n",
    "        - Hierarchical\n",
    "        - Hybrid"
   ]
  },
  {
   "cell_type": "code",
   "execution_count": 3,
   "id": "8ee70d6d",
   "metadata": {},
   "outputs": [],
   "source": [
    "# Single inheritance\n",
    "\n",
    "class Parent:\n",
    "    name = \"A\"\n",
    "    value = 500\n",
    "    \n",
    "    def display():\n",
    "        print(\"I am from Parent class\")"
   ]
  },
  {
   "cell_type": "code",
   "execution_count": 4,
   "id": "07ac5883",
   "metadata": {},
   "outputs": [],
   "source": [
    "# creating child class and inheriting parent class\n",
    "# Single inheritance\n",
    "\n",
    "class Child(Parent):\n",
    "    cname = \"Child\"\n",
    "    age = 20\n",
    "    def show():\n",
    "        print(\"I am from child class\")"
   ]
  },
  {
   "cell_type": "code",
   "execution_count": 5,
   "id": "154b6f1d",
   "metadata": {},
   "outputs": [],
   "source": [
    "# accessing them using inheritance concept\n",
    "\n",
    "obj = Child"
   ]
  },
  {
   "cell_type": "code",
   "execution_count": 6,
   "id": "cb82eb2b",
   "metadata": {},
   "outputs": [
    {
     "data": {
      "text/plain": [
       "'A'"
      ]
     },
     "execution_count": 6,
     "metadata": {},
     "output_type": "execute_result"
    }
   ],
   "source": [
    "obj.name   # accessing name of parent class"
   ]
  },
  {
   "cell_type": "code",
   "execution_count": 7,
   "id": "c7f94f17",
   "metadata": {},
   "outputs": [
    {
     "name": "stdout",
     "output_type": "stream",
     "text": [
      "I am from Parent class\n"
     ]
    }
   ],
   "source": [
    "obj.display()"
   ]
  },
  {
   "cell_type": "code",
   "execution_count": 8,
   "id": "e3e90334",
   "metadata": {},
   "outputs": [
    {
     "name": "stdout",
     "output_type": "stream",
     "text": [
      "I am from child class\n"
     ]
    }
   ],
   "source": [
    "obj.show()"
   ]
  },
  {
   "cell_type": "code",
   "execution_count": 9,
   "id": "f16ce346",
   "metadata": {},
   "outputs": [
    {
     "data": {
      "text/plain": [
       "'Child'"
      ]
     },
     "execution_count": 9,
     "metadata": {},
     "output_type": "execute_result"
    }
   ],
   "source": [
    "obj.cname # accessing the name of child class"
   ]
  },
  {
   "cell_type": "code",
   "execution_count": 10,
   "id": "c57c2dae",
   "metadata": {},
   "outputs": [
    {
     "data": {
      "text/plain": [
       "20"
      ]
     },
     "execution_count": 10,
     "metadata": {},
     "output_type": "execute_result"
    }
   ],
   "source": [
    "obj.age # accessing the age"
   ]
  },
  {
   "cell_type": "code",
   "execution_count": null,
   "id": "1ae42e91",
   "metadata": {},
   "outputs": [],
   "source": []
  }
 ],
 "metadata": {
  "kernelspec": {
   "display_name": "Python 3",
   "language": "python",
   "name": "python3"
  },
  "language_info": {
   "codemirror_mode": {
    "name": "ipython",
    "version": 3
   },
   "file_extension": ".py",
   "mimetype": "text/x-python",
   "name": "python",
   "nbconvert_exporter": "python",
   "pygments_lexer": "ipython3",
   "version": "3.7.0"
  }
 },
 "nbformat": 4,
 "nbformat_minor": 5
}
