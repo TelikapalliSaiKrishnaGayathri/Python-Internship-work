{
 "cells": [
  {
   "cell_type": "markdown",
   "id": "94b46265",
   "metadata": {},
   "source": [
    "# Markdown format"
   ]
  },
  {
   "cell_type": "markdown",
   "id": "dfdf5f0a",
   "metadata": {},
   "source": [
    "## Example"
   ]
  },
  {
   "cell_type": "markdown",
   "id": "66041eb4",
   "metadata": {},
   "source": [
    "# heading1\n",
    "## heading2\n",
    "### heading3\n",
    "#### heading4\n",
    "##### heading5\n",
    "###### heading6\n",
    "####### heading7"
   ]
  },
  {
   "cell_type": "markdown",
   "id": "c472ec5d",
   "metadata": {},
   "source": [
    "# Python\n",
    "## Python Installations, Execution ways, Jupyter Installation"
   ]
  },
  {
   "cell_type": "markdown",
   "id": "bde04efc",
   "metadata": {},
   "source": [
    "## Variable\n",
    "    - to store a value\n",
    "    - to access the value in different functions\n",
    "    - to change value"
   ]
  },
  {
   "cell_type": "code",
   "execution_count": 1,
   "id": "6f27f8b5",
   "metadata": {},
   "outputs": [
    {
     "name": "stdout",
     "output_type": "stream",
     "text": [
      "10\n"
     ]
    }
   ],
   "source": [
    "a=10\n",
    "print(a)"
   ]
  },
  {
   "cell_type": "code",
   "execution_count": 2,
   "id": "78988a58",
   "metadata": {},
   "outputs": [
    {
     "data": {
      "text/plain": [
       "10"
      ]
     },
     "execution_count": 2,
     "metadata": {},
     "output_type": "execute_result"
    }
   ],
   "source": [
    "a"
   ]
  },
  {
   "cell_type": "code",
   "execution_count": 3,
   "id": "5c764565",
   "metadata": {},
   "outputs": [],
   "source": [
    "b=20"
   ]
  },
  {
   "cell_type": "code",
   "execution_count": 4,
   "id": "26316c89",
   "metadata": {},
   "outputs": [
    {
     "data": {
      "text/plain": [
       "20"
      ]
     },
     "execution_count": 4,
     "metadata": {},
     "output_type": "execute_result"
    }
   ],
   "source": [
    "b"
   ]
  },
  {
   "cell_type": "code",
   "execution_count": 5,
   "id": "583bc990",
   "metadata": {},
   "outputs": [
    {
     "data": {
      "text/plain": [
       "(100, 'KG')"
      ]
     },
     "execution_count": 5,
     "metadata": {},
     "output_type": "execute_result"
    }
   ],
   "source": [
    "a=100\n",
    "b='KG'\n",
    "a,b"
   ]
  },
  {
   "cell_type": "markdown",
   "id": "5aa5c88d",
   "metadata": {},
   "source": [
    "## Data types\n",
    "    -int -> only numbers\n",
    "    -float -> decimal points\n",
    "    -string -> either with single or double quotes"
   ]
  },
  {
   "cell_type": "code",
   "execution_count": 11,
   "id": "44fa265c",
   "metadata": {},
   "outputs": [
    {
     "data": {
      "text/plain": [
       "(9.85, 'krishna')"
      ]
     },
     "execution_count": 11,
     "metadata": {},
     "output_type": "execute_result"
    }
   ],
   "source": [
    "p = 9.85\n",
    "q='krishna'\n",
    "p,q"
   ]
  },
  {
   "cell_type": "code",
   "execution_count": 12,
   "id": "6fba2fcd",
   "metadata": {},
   "outputs": [
    {
     "name": "stdout",
     "output_type": "stream",
     "text": [
      "9.85 krishna\n"
     ]
    }
   ],
   "source": [
    "print(p,q)"
   ]
  },
  {
   "cell_type": "markdown",
   "id": "0a7d4a5a",
   "metadata": {},
   "source": [
    "# Type\n",
    "    - to know the data type for that value\n",
    "    -type(variablename,datastructure)"
   ]
  },
  {
   "cell_type": "code",
   "execution_count": 13,
   "id": "d9833d93",
   "metadata": {},
   "outputs": [
    {
     "data": {
      "text/plain": [
       "float"
      ]
     },
     "execution_count": 13,
     "metadata": {},
     "output_type": "execute_result"
    }
   ],
   "source": [
    "type(p)"
   ]
  },
  {
   "cell_type": "code",
   "execution_count": 14,
   "id": "60291a74",
   "metadata": {},
   "outputs": [
    {
     "name": "stdout",
     "output_type": "stream",
     "text": [
      "100\n",
      "<class 'int'>\n"
     ]
    }
   ],
   "source": [
    "r=100\n",
    "print(r)\n",
    "print(type(r))"
   ]
  },
  {
   "cell_type": "code",
   "execution_count": 15,
   "id": "be8e1740",
   "metadata": {},
   "outputs": [
    {
     "data": {
      "text/plain": [
       "(int, float, str)"
      ]
     },
     "execution_count": 15,
     "metadata": {},
     "output_type": "execute_result"
    }
   ],
   "source": [
    "type(a),type(p),type(q)"
   ]
  },
  {
   "cell_type": "code",
   "execution_count": 16,
   "id": "8e1f1922",
   "metadata": {},
   "outputs": [
    {
     "name": "stdout",
     "output_type": "stream",
     "text": [
      "<class 'int'> <class 'float'> <class 'str'>\n"
     ]
    }
   ],
   "source": [
    "print(type(a),type(p),type(q))"
   ]
  },
  {
   "cell_type": "markdown",
   "id": "98ce7dc9",
   "metadata": {},
   "source": [
    "## Input():\n",
    "    - By default it will be considered as a string value\n",
    "    - print(), read()"
   ]
  },
  {
   "cell_type": "code",
   "execution_count": 17,
   "id": "95779416",
   "metadata": {},
   "outputs": [
    {
     "name": "stdout",
     "output_type": "stream",
     "text": [
      "26\n",
      "26\n"
     ]
    }
   ],
   "source": [
    "a=input()\n",
    "print(a)"
   ]
  },
  {
   "cell_type": "code",
   "execution_count": null,
   "id": "b173c575",
   "metadata": {},
   "outputs": [],
   "source": []
  },
  {
   "cell_type": "markdown",
   "id": "15b3aad9",
   "metadata": {},
   "source": [
    "## TypeCasting\n",
    "    - converting one data type into another data type\n",
    "    - int(), str(), float()"
   ]
  },
  {
   "cell_type": "code",
   "execution_count": 18,
   "id": "82c7479b",
   "metadata": {},
   "outputs": [
    {
     "name": "stdout",
     "output_type": "stream",
     "text": [
      "Enter only integer values: 12\n",
      "12 <class 'int'>\n"
     ]
    }
   ],
   "source": [
    "n=int(input(\"Enter only integer values: \"))\n",
    "print(n, type(n))"
   ]
  },
  {
   "cell_type": "code",
   "execution_count": 19,
   "id": "5ffb2177",
   "metadata": {},
   "outputs": [
    {
     "name": "stdout",
     "output_type": "stream",
     "text": [
      "Enter only integer values: gayathri\n"
     ]
    },
    {
     "ename": "ValueError",
     "evalue": "could not convert string to float: 'gayathri'",
     "output_type": "error",
     "traceback": [
      "\u001b[1;31m---------------------------------------------------------------------------\u001b[0m",
      "\u001b[1;31mValueError\u001b[0m                                Traceback (most recent call last)",
      "\u001b[1;32m<ipython-input-19-ff29f95f3e3d>\u001b[0m in \u001b[0;36m<module>\u001b[1;34m\u001b[0m\n\u001b[1;32m----> 1\u001b[1;33m \u001b[0mn\u001b[0m\u001b[1;33m=\u001b[0m\u001b[0mfloat\u001b[0m\u001b[1;33m(\u001b[0m\u001b[0minput\u001b[0m\u001b[1;33m(\u001b[0m\u001b[1;34m\"Enter only integer values: \"\u001b[0m\u001b[1;33m)\u001b[0m\u001b[1;33m)\u001b[0m\u001b[1;33m\u001b[0m\u001b[0m\n\u001b[0m\u001b[0;32m      2\u001b[0m \u001b[0mprint\u001b[0m\u001b[1;33m(\u001b[0m\u001b[0mn\u001b[0m\u001b[1;33m,\u001b[0m \u001b[0mtype\u001b[0m\u001b[1;33m(\u001b[0m\u001b[0mn\u001b[0m\u001b[1;33m)\u001b[0m\u001b[1;33m)\u001b[0m\u001b[1;33m\u001b[0m\u001b[0m\n",
      "\u001b[1;31mValueError\u001b[0m: could not convert string to float: 'gayathri'"
     ]
    }
   ],
   "source": [
    "n=float(input(\"Enter only integer values: \"))\n",
    "print(n, type(n))"
   ]
  },
  {
   "cell_type": "code",
   "execution_count": 20,
   "id": "2a2d69c6",
   "metadata": {},
   "outputs": [
    {
     "name": "stdout",
     "output_type": "stream",
     "text": [
      "Enter only integer values: 9.85\n",
      "9.85 <class 'float'>\n"
     ]
    }
   ],
   "source": [
    "n=float(input(\"Enter only integer values: \"))\n",
    "print(n, type(n))"
   ]
  },
  {
   "cell_type": "code",
   "execution_count": 22,
   "id": "bbd69c33",
   "metadata": {},
   "outputs": [
    {
     "name": "stdout",
     "output_type": "stream",
     "text": [
      "Enter only integer values: 10\n",
      "10 <class 'int'>\n"
     ]
    }
   ],
   "source": [
    "n=int(input(\"Enter only integer values: \"))\n",
    "print(n, type(n))"
   ]
  },
  {
   "cell_type": "code",
   "execution_count": 24,
   "id": "67f8a9ee",
   "metadata": {},
   "outputs": [
    {
     "name": "stdout",
     "output_type": "stream",
     "text": [
      "Enter integer values: 26\n",
      "Enter float values: 9.85\n",
      "Conversion of int value is:  26.0\n",
      "Conversion of float value is:  9\n"
     ]
    }
   ],
   "source": [
    "x=int(input(\"Enter integer values: \"))\n",
    "y=float(input(\"Enter float values: \"))\n",
    "a=float(x)\n",
    "b=int(y)\n",
    "print(\"Conversion of int value is: \",a)\n",
    "print(\"Conversion of float value is: \",b)"
   ]
  },
  {
   "cell_type": "code",
   "execution_count": 31,
   "id": "29d375d6",
   "metadata": {},
   "outputs": [
    {
     "name": "stdout",
     "output_type": "stream",
     "text": [
      "Enter integer values: 26\n",
      "Enter float values: 2.6789\n",
      "Conversion of int value is:  26.0\n",
      "Conversion of float value is:  2\n",
      "string in both cases is ''26''2.6789'\n"
     ]
    }
   ],
   "source": [
    "x=int(input(\"Enter integer values: \"))\n",
    "y=float(input(\"Enter float values: \"))\n",
    "print(\"Conversion of int value is: \",float(x))\n",
    "print(\"Conversion of float value is: \",int(y))\n",
    "print(\"string in both cases is \"+\"''\"+str(x)+\"''\"+str(y)+\"'\")"
   ]
  },
  {
   "cell_type": "markdown",
   "id": "37fddb86",
   "metadata": {},
   "source": [
    "## styling text\n",
    "    - bold -> **  ** or __  __\n",
    "    - italic -> * * or _  _\n",
    "    - strikethrough -> ~~  ~~\n",
    "    - bold and nested italic **  ** and _  _\n",
    "    - all bold and italic ***  ***"
   ]
  },
  {
   "cell_type": "markdown",
   "id": "d1d85b99",
   "metadata": {},
   "source": [
    "**Python programming**\n",
    "*Python programming*\n",
    "__python__\n",
    "_python_\n",
    "~~python~~\n",
    "**Python\n",
    "_Programming_in jupyter**\n",
    "***Python Programming***"
   ]
  },
  {
   "cell_type": "markdown",
   "id": "570b259b",
   "metadata": {},
   "source": [
    "## Quoting text"
   ]
  },
  {
   "cell_type": "markdown",
   "id": "724df639",
   "metadata": {},
   "source": [
    "\n",
    "> jupyter notebook"
   ]
  },
  {
   "cell_type": "markdown",
   "id": "39fd544b",
   "metadata": {},
   "source": [
    "## Lists"
   ]
  },
  {
   "cell_type": "markdown",
   "id": "ebbca623",
   "metadata": {},
   "source": [
    "- KRISHNA GAYATHRI\n",
    "- TEJASWINI\n",
    "- PUJITHA\n",
    "- NIHARIKA\n",
    "- SOUNDARYA"
   ]
  },
  {
   "cell_type": "markdown",
   "id": "d9ab1af1",
   "metadata": {},
   "source": [
    "### lists with numbering\n",
    "1. KRISHNA GAYATHRI\n",
    "2. TEJASWINI\n",
    "3. PUJITHA\n",
    "4. NIHARIKA\n",
    "5. SOUNDARYA"
   ]
  },
  {
   "cell_type": "markdown",
   "id": "d0b5e43c",
   "metadata": {},
   "source": [
    "### lists with random numbering\n",
    "26. KRISHNA GAYATHRI\n",
    "34. TEJASWINI\n",
    "8. PUJITHA\n",
    "18. NIHARIKA\n",
    "21. SOUNDARYA"
   ]
  },
  {
   "cell_type": "markdown",
   "id": "7ec50bab",
   "metadata": {},
   "source": [
    "## Nested lists"
   ]
  },
  {
   "cell_type": "markdown",
   "id": "3146c11b",
   "metadata": {},
   "source": [
    "1. Pace Institute of technology of sciences\n",
    "    -Branches\n",
    "        -CSE\n",
    "        -ECE\n",
    "        -EEE\n",
    "        -CIVIL\n",
    "        -AME\n",
    "        -IT\n",
    "    -Courses in CSE\n",
    "        -C\n",
    "        -C++\n",
    "        -JAVA\n",
    "        -PYTHON"
   ]
  },
  {
   "cell_type": "markdown",
   "id": "0f83b524",
   "metadata": {},
   "source": [
    "## Task lists\n",
    "- [x] for marking a task as complete\n"
   ]
  },
  {
   "cell_type": "markdown",
   "id": "06d088c9",
   "metadata": {},
   "source": [
    "- [x] complete assignments\n",
    "- []  do the task\n",
    "- [] submitting project report"
   ]
  },
  {
   "cell_type": "code",
   "execution_count": null,
   "id": "aa70332b",
   "metadata": {},
   "outputs": [],
   "source": []
  }
 ],
 "metadata": {
  "kernelspec": {
   "display_name": "Python 3",
   "language": "python",
   "name": "python3"
  },
  "language_info": {
   "codemirror_mode": {
    "name": "ipython",
    "version": 3
   },
   "file_extension": ".py",
   "mimetype": "text/x-python",
   "name": "python",
   "nbconvert_exporter": "python",
   "pygments_lexer": "ipython3",
   "version": "3.7.0"
  }
 },
 "nbformat": 4,
 "nbformat_minor": 5
}
