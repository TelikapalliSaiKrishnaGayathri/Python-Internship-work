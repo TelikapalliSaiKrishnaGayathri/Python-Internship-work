{
 "cells": [
  {
   "cell_type": "markdown",
   "id": "6fd0f868",
   "metadata": {},
   "source": [
    "# Strings\n",
    "    - it can be represented in single or double quotes\n",
    "    - it can be typecasted as str()\n",
    "    - it has index and slicing can be done\n",
    "    - it can change the character but it does not effect the original string"
   ]
  },
  {
   "cell_type": "code",
   "execution_count": 2,
   "id": "12b90e45",
   "metadata": {},
   "outputs": [
    {
     "name": "stdout",
     "output_type": "stream",
     "text": [
      "Krishna Gayathri\n"
     ]
    }
   ],
   "source": [
    "str1 = \"Krishna Gayathri\" #initialising the string\n",
    "print(str1)"
   ]
  },
  {
   "cell_type": "code",
   "execution_count": 10,
   "id": "60109678",
   "metadata": {},
   "outputs": [
    {
     "name": "stdout",
     "output_type": "stream",
     "text": [
      "a\n",
      "K\n",
      "a\n"
     ]
    }
   ],
   "source": [
    "print(str1[6])\n",
    "print(str1[0])\n",
    "print(str1[-5])"
   ]
  },
  {
   "cell_type": "markdown",
   "id": "c7b0f05e",
   "metadata": {},
   "source": [
    "## Ranges\n",
    "\n",
    "```\n",
    "range(a)\n",
    "range(a,b)\n",
    "range(a,b,c)\n",
    "inclusive range --> exact index\n",
    "exclusive range --> given index range\n",
    "\n"
   ]
  },
  {
   "cell_type": "code",
   "execution_count": 21,
   "id": "d6ceb1af",
   "metadata": {},
   "outputs": [
    {
     "name": "stdout",
     "output_type": "stream",
     "text": [
      "Krishna Gayathri\n",
      " Gayathri\n",
      "Krishna Gayathri\n",
      "Krishna Gayat\n",
      "Krishna\n"
     ]
    }
   ],
   "source": [
    "print(str1)\n",
    "print(str1[7:])\n",
    "print(str1[:])\n",
    "print(str1[:13])\n",
    "print(str1[0:-9])"
   ]
  },
  {
   "cell_type": "code",
   "execution_count": 15,
   "id": "55cf19ef",
   "metadata": {},
   "outputs": [
    {
     "name": "stdout",
     "output_type": "stream",
     "text": [
      "irhtayaG anhsirK\n"
     ]
    }
   ],
   "source": [
    "print(str1[::-1]) #reversal of string"
   ]
  },
  {
   "cell_type": "code",
   "execution_count": 22,
   "id": "420530e8",
   "metadata": {},
   "outputs": [
    {
     "name": "stdout",
     "output_type": "stream",
     "text": [
      " Gaya\n"
     ]
    }
   ],
   "source": [
    "print(str1[7:-4])"
   ]
  },
  {
   "cell_type": "code",
   "execution_count": 28,
   "id": "5ed578b9",
   "metadata": {},
   "outputs": [
    {
     "name": "stdout",
     "output_type": "stream",
     "text": [
      "Krishna Gayathri\n",
      "Krishna Gayathri\n",
      "KihaGytr\n",
      "\n"
     ]
    }
   ],
   "source": [
    "print(str1)\n",
    "print(str1[::])\n",
    "print(str1[::2])"
   ]
  },
  {
   "cell_type": "code",
   "execution_count": 36,
   "id": "903a66c5",
   "metadata": {},
   "outputs": [
    {
     "name": "stdout",
     "output_type": "stream",
     "text": [
      " anhsirK\n",
      "irhtayaG\n"
     ]
    }
   ],
   "source": [
    "print(str1[7::-1])\n",
    "print(str1[16:7:-1])"
   ]
  },
  {
   "cell_type": "code",
   "execution_count": 48,
   "id": "f792056f",
   "metadata": {},
   "outputs": [
    {
     "name": "stdout",
     "output_type": "stream",
     "text": [
      "Krishna Gayathri\n",
      "Krishna irhtayaG\n"
     ]
    }
   ],
   "source": [
    "print(str1)\n",
    "print(str1[:7]+ \" \"+str1[16:7:-1]) #second name reversing"
   ]
  },
  {
   "cell_type": "code",
   "execution_count": 42,
   "id": "a9b84aec",
   "metadata": {},
   "outputs": [
    {
     "name": "stdout",
     "output_type": "stream",
     "text": [
      "ihaa nsr\n"
     ]
    }
   ],
   "source": [
    "print(str1[::-2]) # prints string with step value 2 in reverse direction"
   ]
  },
  {
   "cell_type": "code",
   "execution_count": 47,
   "id": "d69c7000",
   "metadata": {},
   "outputs": [
    {
     "name": "stdout",
     "output_type": "stream",
     "text": [
      "ishna Gaya\n"
     ]
    }
   ],
   "source": [
    "print(str1[-14:-4])"
   ]
  },
  {
   "cell_type": "code",
   "execution_count": 50,
   "id": "0620bc27",
   "metadata": {},
   "outputs": [
    {
     "name": "stdout",
     "output_type": "stream",
     "text": [
      "Enter a string: APSSDC INTERNSHIP\n",
      "SDC INTERNSH\n"
     ]
    }
   ],
   "source": [
    "n = input(\"Enter a string: \")\n",
    "print(n[3:-2])"
   ]
  },
  {
   "cell_type": "code",
   "execution_count": 52,
   "id": "2a079953",
   "metadata": {},
   "outputs": [
    {
     "name": "stdout",
     "output_type": "stream",
     "text": [
      "APSSDC progra\n"
     ]
    }
   ],
   "source": [
    "m=\"APSSDC programs\"\n",
    "print(m[:-2:])"
   ]
  },
  {
   "cell_type": "code",
   "execution_count": 53,
   "id": "1201a092",
   "metadata": {},
   "outputs": [
    {
     "name": "stdout",
     "output_type": "stream",
     "text": [
      "['__add__', '__class__', '__contains__', '__delattr__', '__dir__', '__doc__', '__eq__', '__format__', '__ge__', '__getattribute__', '__getitem__', '__getnewargs__', '__gt__', '__hash__', '__init__', '__init_subclass__', '__iter__', '__le__', '__len__', '__lt__', '__mod__', '__mul__', '__ne__', '__new__', '__reduce__', '__reduce_ex__', '__repr__', '__rmod__', '__rmul__', '__setattr__', '__sizeof__', '__str__', '__subclasshook__', 'capitalize', 'casefold', 'center', 'count', 'encode', 'endswith', 'expandtabs', 'find', 'format', 'format_map', 'index', 'isalnum', 'isalpha', 'isascii', 'isdecimal', 'isdigit', 'isidentifier', 'islower', 'isnumeric', 'isprintable', 'isspace', 'istitle', 'isupper', 'join', 'ljust', 'lower', 'lstrip', 'maketrans', 'partition', 'replace', 'rfind', 'rindex', 'rjust', 'rpartition', 'rsplit', 'rstrip', 'split', 'splitlines', 'startswith', 'strip', 'swapcase', 'title', 'translate', 'upper', 'zfill']\n"
     ]
    }
   ],
   "source": [
    "#string methods\n",
    "print(dir(str))"
   ]
  },
  {
   "cell_type": "code",
   "execution_count": 55,
   "id": "fe4ba024",
   "metadata": {},
   "outputs": [
    {
     "name": "stdout",
     "output_type": "stream",
     "text": [
      "Welcome to APSSDC Programs\n",
      "Welcome to apssdc programs\n"
     ]
    }
   ],
   "source": [
    "s = \"Welcome to APSSDC Programs\"\n",
    "print(s)\n",
    "print(s.capitalize())# converts starting letter of each string to capital if small and  vice versa"
   ]
  },
  {
   "cell_type": "code",
   "execution_count": 59,
   "id": "c3144ff4",
   "metadata": {},
   "outputs": [
    {
     "name": "stdout",
     "output_type": "stream",
     "text": [
      "Welcome to APSSDC Programs\n",
      "welcome to apssdc programs\n",
      "Welcome To Apssdc Programs\n",
      "wELCOME TO apssdc pROGRAMS\n"
     ]
    }
   ],
   "source": [
    "print(s) # prints string\n",
    "print(s.casefold()) # prints to small letters \n",
    "print(s.title()) # capitalize each string\n",
    "print(s.swapcase()) #capital to small and small to capital"
   ]
  },
  {
   "cell_type": "code",
   "execution_count": 60,
   "id": "52d80b2e",
   "metadata": {},
   "outputs": [
    {
     "name": "stdout",
     "output_type": "stream",
     "text": [
      "Welcome to APSSDC Programs\n",
      "WELCOME TO APSSDC PROGRAMS\n",
      "welcome to apssdc programs\n",
      "False\n",
      "True\n"
     ]
    }
   ],
   "source": [
    "print(s)\n",
    "print(s.upper())\n",
    "print(s.lower())\n",
    "print(s.startswith('w'))\n",
    "print(s.endswith('s'))"
   ]
  },
  {
   "cell_type": "code",
   "execution_count": 78,
   "id": "0f0decbe",
   "metadata": {},
   "outputs": [
    {
     "name": "stdout",
     "output_type": "stream",
     "text": [
      "Welcome to APSSDC Programs\n",
      "['Welcome', 'to', 'APSSDC', 'Programs']\n",
      "['Welcome', 'to', 'APSSDC', 'Programs']\n",
      "['Welcome to AP', '', 'DC Programs']\n",
      "2\n",
      "13\n",
      "-1\n",
      "6\n",
      "11\n",
      "12\n",
      "18\n",
      "0\n"
     ]
    }
   ],
   "source": [
    "print(s)\n",
    "print(s.split())\n",
    "print(s.split(' '))\n",
    "print(s.split('S'))\n",
    "print(s.count('r'))\n",
    "print(s.find('S'))\n",
    "print(s.find('x'))\n",
    "print(s.rfind('e')) #gives preference of particular char from right to left\n",
    "print(s.index('A'))\n",
    "print(s.index('P'))\n",
    "print(s.rindex('P'))\n",
    "print(s.rindex('W'))"
   ]
  },
  {
   "cell_type": "code",
   "execution_count": 66,
   "id": "5fd227ce",
   "metadata": {},
   "outputs": [
    {
     "name": "stdout",
     "output_type": "stream",
     "text": [
      "krishna gayathri tejaswini pujitha\n",
      "['krishna', 'gayathri', 'tejaswini', 'pujitha']\n"
     ]
    }
   ],
   "source": [
    "n = input().split()\n",
    "print(n)"
   ]
  },
  {
   "cell_type": "code",
   "execution_count": 83,
   "id": "09d848df",
   "metadata": {},
   "outputs": [
    {
     "name": "stdout",
     "output_type": "stream",
     "text": [
      "        Krishna    Gayathri     \n",
      "Krishna\n",
      "    Gayathri\n",
      "Krishna    GayathriGayathri     \n"
     ]
    }
   ],
   "source": [
    "# lstrip---> removes left spaces\n",
    "#rstrip ---> removes right spaces\n",
    "\n",
    "a = \"        Krishna\"\n",
    "b = \"    Gayathri     \"\n",
    "print(a+b)\n",
    "print(a.lstrip())\n",
    "print(b.rstrip())\n",
    "print(a.lstrip() + b.rstrip())"
   ]
  },
  {
   "cell_type": "code",
   "execution_count": 100,
   "id": "3bd26337",
   "metadata": {},
   "outputs": [
    {
     "name": "stdout",
     "output_type": "stream",
     "text": [
      "Krishna\n",
      "Krishna             \n",
      "                       Krishna\n",
      "0000000000000Krishna\n",
      "-------------Krishna\n"
     ]
    }
   ],
   "source": [
    "a=\"Krishna\"\n",
    "print(a)\n",
    "print(a.ljust(20)) #whitespaces after given string upto 20th position\n",
    "print(a.rjust(30)) #whitespaces before the string upto 30th position\n",
    "b = a.zfill(20) #count of characters becomes 20\n",
    "print(b)\n",
    "print(b.replace('0','-'))"
   ]
  },
  {
   "cell_type": "code",
   "execution_count": 101,
   "id": "7c1f4192",
   "metadata": {},
   "outputs": [
    {
     "name": "stdout",
     "output_type": "stream",
     "text": [
      "aaaa\n",
      "a a a a\n"
     ]
    }
   ],
   "source": [
    "k = \"aaaa\"\n",
    "a = \" \".join(k)\n",
    "print(k)\n",
    "print(a)"
   ]
  },
  {
   "cell_type": "code",
   "execution_count": 104,
   "id": "f3ef7fdf",
   "metadata": {},
   "outputs": [
    {
     "name": "stdout",
     "output_type": "stream",
     "text": [
      "19kq1a0526-krishnagayathri-pace\n",
      "['19kq1a0526', 'krishnagayathri', 'pace']\n",
      "19kq1a0526\n"
     ]
    }
   ],
   "source": [
    "n = input().split(\"-\")\n",
    "print(n)\n",
    "print(n[0])"
   ]
  },
  {
   "cell_type": "code",
   "execution_count": 107,
   "id": "fd66156a",
   "metadata": {},
   "outputs": [
    {
     "name": "stdout",
     "output_type": "stream",
     "text": [
      "12bkjigvb34b6hb\n",
      "12bkjigvb34b6hb\n",
      "12bkjigvb34b6hb\n",
      "12bkjigvb34b6hb\n",
      "12bkjigvb34b6hb\n",
      "12bkjigvb34b6hb\n",
      "12bkjigvb34b6hb\n",
      "12bkjigvb34b6hb\n",
      "12bkjigvb34b6hb\n",
      "12bkjigvb34b6hb\n",
      "12bkjigvb34b6hb\n",
      "12bkjigvb34b6hb\n",
      "12bkjigvb34b6hb\n",
      "12bkjigvb34b6hb\n",
      "12bkjigvb34b6hb\n",
      "1 2 b k j i g v b 3 4 b 6 h b "
     ]
    }
   ],
   "source": [
    "k = \"12bkjigvb34b6hb\"\n",
    "for i in k:\n",
    "    print(k)\n",
    "for i in k:\n",
    "    print(i,end=\" \")"
   ]
  },
  {
   "cell_type": "code",
   "execution_count": 109,
   "id": "b8806cb8",
   "metadata": {},
   "outputs": [
    {
     "name": "stdout",
     "output_type": "stream",
     "text": [
      "False\n",
      "True\n"
     ]
    }
   ],
   "source": [
    "print(k.isalpha())\n",
    "print(k.isalnum())"
   ]
  },
  {
   "cell_type": "code",
   "execution_count": 29,
   "id": "3922cc48",
   "metadata": {},
   "outputs": [
    {
     "name": "stdout",
     "output_type": "stream",
     "text": [
      "56#Swqrg35$\n",
      "Given string is:  56#Swqrg35$\n",
      "Alphabets in  56#Swqrg35$ is:  S w q r g\n",
      "Digits in  56#Swqrg35$ is:  5 6 3 5\n",
      "Special characters in 56#Swqrg35$ is:  # $\n"
     ]
    }
   ],
   "source": [
    "x = input()\n",
    "print(\"Given string is: \",x)\n",
    "l1=[]\n",
    "l2=[]\n",
    "l3=[]\n",
    "for i in x:\n",
    "    if(i.isalpha()):\n",
    "        l1.append(i)\n",
    "    elif(i.isdigit()):\n",
    "        l2.append(i)\n",
    "    else:\n",
    "        l3.append(i)\n",
    "a = \" \".join(l1)\n",
    "b = \" \".join(l2)\n",
    "c = \" \".join(l3)\n",
    "print(\"Alphabets in \",x,\"is: \",a)\n",
    "print(\"Digits in \",x,\"is: \",b)\n",
    "print(\"Special characters in\",x,\"is: \",c)"
   ]
  },
  {
   "cell_type": "code",
   "execution_count": 16,
   "id": "6e59ea76",
   "metadata": {},
   "outputs": [
    {
     "name": "stdout",
     "output_type": "stream",
     "text": [
      "87878\n",
      "8 7 8 7 8 "
     ]
    }
   ],
   "source": [
    "a=input()\n",
    "for i in a:\n",
    "    print(i,end=\" \")"
   ]
  },
  {
   "cell_type": "code",
   "execution_count": null,
   "id": "bb52d71c",
   "metadata": {},
   "outputs": [],
   "source": []
  }
 ],
 "metadata": {
  "kernelspec": {
   "display_name": "Python 3",
   "language": "python",
   "name": "python3"
  },
  "language_info": {
   "codemirror_mode": {
    "name": "ipython",
    "version": 3
   },
   "file_extension": ".py",
   "mimetype": "text/x-python",
   "name": "python",
   "nbconvert_exporter": "python",
   "pygments_lexer": "ipython3",
   "version": "3.7.0"
  }
 },
 "nbformat": 4,
 "nbformat_minor": 5
}
