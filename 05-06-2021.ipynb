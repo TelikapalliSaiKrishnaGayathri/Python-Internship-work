{
 "cells": [
  {
   "cell_type": "markdown",
   "id": "aeb58335",
   "metadata": {},
   "source": [
    "# Files, Packages and Modules"
   ]
  },
  {
   "cell_type": "markdown",
   "id": "7d2c7af7",
   "metadata": {},
   "source": [
    "## Files:\n",
    "    - To store values or data permanently\n",
    "    - File format .py,.txt etc.\n",
    "    - Modes:\n",
    "        - Read --> if file doesn't exist, it displays an error. If file exists, it reads the data(-r)\n",
    "        - Write --> if file doesn't exist, it creates a file with userdefined file name. If file exists it writes to a file. Previous data will be erased and new data is created.(-w)\n",
    "        - Append --> if file doesn't exists, it creates a file with userdefined filename. If the file exists, it writes to a file and it will add new data for existing ones(-a)\n",
    "        - Execute --> If the file is not exist, new file is created"
   ]
  },
  {
   "cell_type": "code",
   "execution_count": 14,
   "id": "0b246442",
   "metadata": {},
   "outputs": [],
   "source": [
    "# write mode\n",
    "# creating a file in raw data folder\n",
    "# sample.text is created\n",
    "with open('Raw Data/sample.text','w') as ft:\n",
    "    ft.write(\"Hello this is Raw Data folder\")"
   ]
  },
  {
   "cell_type": "code",
   "execution_count": 15,
   "id": "73b3a647",
   "metadata": {},
   "outputs": [
    {
     "name": "stdout",
     "output_type": "stream",
     "text": [
      "Hello this is Raw Data folder\n"
     ]
    }
   ],
   "source": [
    "# read mode\n",
    "# reading the contents of the file\n",
    "with open('Raw Data/sample.text','r') as fr:\n",
    "    print(fr.read())"
   ]
  },
  {
   "cell_type": "code",
   "execution_count": 16,
   "id": "1ec33f1e",
   "metadata": {},
   "outputs": [],
   "source": [
    "# append mode\n",
    "# adding the contents to a existing file\n",
    "with open('Raw Data/sample.text','a') as fa:\n",
    "    fa.write(\"\\nWelcome to APSSDC Internship Program\")\n",
    "    fa.write(\"\\nThis a python program\")"
   ]
  },
  {
   "cell_type": "code",
   "execution_count": 17,
   "id": "e19a3d87",
   "metadata": {},
   "outputs": [
    {
     "name": "stdout",
     "output_type": "stream",
     "text": [
      "Hello this is Raw Data folder\n",
      "Welcome to APSSDC Internship Program\n",
      "This a python program\n"
     ]
    }
   ],
   "source": [
    "# read mode\n",
    "# reading the contents of the file\n",
    "# again reading the contents of file\n",
    "with open('Raw Data/sample.text','r') as fr:\n",
    "    print(fr.read())"
   ]
  },
  {
   "cell_type": "code",
   "execution_count": 19,
   "id": "8121d4b6",
   "metadata": {},
   "outputs": [
    {
     "ename": "FileExistsError",
     "evalue": "[Errno 17] File exists: 'Raw Data/sample1.txt'",
     "output_type": "error",
     "traceback": [
      "\u001b[1;31m---------------------------------------------------------------------------\u001b[0m",
      "\u001b[1;31mFileExistsError\u001b[0m                           Traceback (most recent call last)",
      "\u001b[1;32m<ipython-input-19-7d558253c2ac>\u001b[0m in \u001b[0;36m<module>\u001b[1;34m\u001b[0m\n\u001b[0;32m      2\u001b[0m \u001b[1;31m# sample1.txt file is created and contents are written in that file using write mode\u001b[0m\u001b[1;33m\u001b[0m\u001b[1;33m\u001b[0m\u001b[0m\n\u001b[0;32m      3\u001b[0m \u001b[1;31m# here we are using x to check whether the file exists or not\u001b[0m\u001b[1;33m\u001b[0m\u001b[1;33m\u001b[0m\u001b[0m\n\u001b[1;32m----> 4\u001b[1;33m \u001b[1;32mwith\u001b[0m \u001b[0mopen\u001b[0m\u001b[1;33m(\u001b[0m\u001b[1;34m'Raw Data/sample1.txt'\u001b[0m\u001b[1;33m,\u001b[0m\u001b[1;34m'x'\u001b[0m\u001b[1;33m)\u001b[0m \u001b[1;32mas\u001b[0m  \u001b[0mf\u001b[0m\u001b[1;33m:\u001b[0m\u001b[1;33m\u001b[0m\u001b[0m\n\u001b[0m\u001b[0;32m      5\u001b[0m     \u001b[1;32mwith\u001b[0m \u001b[0mopen\u001b[0m\u001b[1;33m(\u001b[0m\u001b[1;34m'Raw Data/sample1.txt'\u001b[0m\u001b[1;33m,\u001b[0m\u001b[1;34m'w'\u001b[0m\u001b[1;33m)\u001b[0m \u001b[1;32mas\u001b[0m \u001b[0mg\u001b[0m\u001b[1;33m:\u001b[0m\u001b[1;33m\u001b[0m\u001b[0m\n\u001b[0;32m      6\u001b[0m         \u001b[0mg\u001b[0m\u001b[1;33m.\u001b[0m\u001b[0mwrite\u001b[0m\u001b[1;33m(\u001b[0m\u001b[1;34m\"Welcome Krishna Gayathri\"\u001b[0m\u001b[1;33m)\u001b[0m\u001b[1;33m\u001b[0m\u001b[0m\n",
      "\u001b[1;31mFileExistsError\u001b[0m: [Errno 17] File exists: 'Raw Data/sample1.txt'"
     ]
    }
   ],
   "source": [
    "# Exist mode\n",
    "# sample1.txt file is created and contents are written in that file using write mode\n",
    "# here we are using x to check whether the file exists or not\n",
    "# if file exists it displays error as shown below\n",
    "# if file doesn't exist then a new file is created\n",
    "with open('Raw Data/sample1.txt','x') as  f:\n",
    "    with open('Raw Data/sample1.txt','w') as g:\n",
    "        g.write(\"Welcome Krishna Gayathri\")"
   ]
  },
  {
   "cell_type": "code",
   "execution_count": 25,
   "id": "0bd6ce83",
   "metadata": {},
   "outputs": [
    {
     "name": "stdout",
     "output_type": "stream",
     "text": [
      "Enter a range: 3\n",
      "Enter a name: aaa\n",
      "Enter a name: bbb\n",
      "Enter a name: ccc\n"
     ]
    }
   ],
   "source": [
    "# Dynamic input\n",
    "\n",
    "with open('Raw Data/Names.csv','w') as y:\n",
    "    n = int(input(\"Enter a range: \"))\n",
    "    for j in range(1,n+1):\n",
    "        m = input(\"Enter a name: \")\n",
    "        y.write(m + \"\\n\")"
   ]
  },
  {
   "cell_type": "code",
   "execution_count": 26,
   "id": "ebb74389",
   "metadata": {},
   "outputs": [
    {
     "name": "stdout",
     "output_type": "stream",
     "text": [
      "['_CHUNK_SIZE', '__class__', '__del__', '__delattr__', '__dict__', '__dir__', '__doc__', '__enter__', '__eq__', '__exit__', '__format__', '__ge__', '__getattribute__', '__getstate__', '__gt__', '__hash__', '__init__', '__init_subclass__', '__iter__', '__le__', '__lt__', '__ne__', '__new__', '__next__', '__reduce__', '__reduce_ex__', '__repr__', '__setattr__', '__sizeof__', '__str__', '__subclasshook__', '_checkClosed', '_checkReadable', '_checkSeekable', '_checkWritable', '_finalizing', 'buffer', 'close', 'closed', 'detach', 'encoding', 'errors', 'fileno', 'flush', 'isatty', 'line_buffering', 'mode', 'name', 'newlines', 'read', 'readable', 'readline', 'readlines', 'reconfigure', 'seek', 'seekable', 'tell', 'truncate', 'writable', 'write', 'write_through', 'writelines']\n"
     ]
    }
   ],
   "source": [
    "print(dir(y))"
   ]
  },
  {
   "cell_type": "code",
   "execution_count": 27,
   "id": "6841ca0e",
   "metadata": {},
   "outputs": [
    {
     "name": "stdout",
     "output_type": "stream",
     "text": [
      "['aaa\\n', 'bbb\\n', 'ccc\\n']\n"
     ]
    }
   ],
   "source": [
    "with open('Raw Data/Names.csv','r') as k:\n",
    "    s=k.readlines()\n",
    "    print(s)"
   ]
  },
  {
   "cell_type": "code",
   "execution_count": 29,
   "id": "a1a91e17",
   "metadata": {},
   "outputs": [
    {
     "name": "stdout",
     "output_type": "stream",
     "text": [
      "aaa\n",
      "\n",
      "bbb\n",
      "\n",
      "ccc\n",
      "\n"
     ]
    }
   ],
   "source": [
    "with open('Raw Data/Names.csv','r') as k:\n",
    "    s=k.readlines()\n",
    "    for v in s:\n",
    "        v.split('\\n')\n",
    "        print(v)"
   ]
  },
  {
   "cell_type": "code",
   "execution_count": 33,
   "id": "a311f9f9",
   "metadata": {},
   "outputs": [
    {
     "name": "stdout",
     "output_type": "stream",
     "text": [
      "[['aaa', ''], ['bbb', ''], ['ccc', '']]\n"
     ]
    }
   ],
   "source": [
    "# here values are available at 0th index\n",
    "\n",
    "with open('Raw Data/Names.csv','r') as k:\n",
    "    s=k.readlines()\n",
    "    q = []\n",
    "    for v in s:\n",
    "        q.append(v.split('\\n'))\n",
    "    print(q)"
   ]
  },
  {
   "cell_type": "code",
   "execution_count": 35,
   "id": "2d66ee3e",
   "metadata": {},
   "outputs": [
    {
     "name": "stdout",
     "output_type": "stream",
     "text": [
      "['aaa', 'bbb', 'ccc']\n"
     ]
    }
   ],
   "source": [
    "with open('Raw Data/Names.csv','r') as k:\n",
    "    s=k.readlines()\n",
    "    q = []\n",
    "    for v in s:\n",
    "        q.append(v.split('\\n')[0])\n",
    "    print(q)"
   ]
  },
  {
   "cell_type": "code",
   "execution_count": 43,
   "id": "9aa3f73a",
   "metadata": {},
   "outputs": [
    {
     "name": "stdout",
     "output_type": "stream",
     "text": [
      "Enter a range: 34\n"
     ]
    }
   ],
   "source": [
    "with open('Raw Data/input.text','w') as fw:\n",
    "    fw.write(input(\"Enter a range: \"))"
   ]
  },
  {
   "cell_type": "code",
   "execution_count": 44,
   "id": "50021ac7",
   "metadata": {},
   "outputs": [],
   "source": [
    "with open('Raw Data/input.text','r') as g:\n",
    "    f=g.readlines()\n",
    "    with open('Raw Data/output.text','w') as wy:\n",
    "        wy.write(\"Entered number is {}\\n\".format(f[0]))\n",
    "        x = []\n",
    "        for n in range(1,int(f[0])+1):\n",
    "            if n%2==0:\n",
    "                h = str(n)+\",\"\n",
    "                x.append(h)\n",
    "        t = \" \".join(x)\n",
    "        wy.write(\"Even numbers in range {} is {}\".format(f[0],x))"
   ]
  },
  {
   "cell_type": "code",
   "execution_count": null,
   "id": "857076e5",
   "metadata": {},
   "outputs": [],
   "source": []
  }
 ],
 "metadata": {
  "kernelspec": {
   "display_name": "Python 3",
   "language": "python",
   "name": "python3"
  },
  "language_info": {
   "codemirror_mode": {
    "name": "ipython",
    "version": 3
   },
   "file_extension": ".py",
   "mimetype": "text/x-python",
   "name": "python",
   "nbconvert_exporter": "python",
   "pygments_lexer": "ipython3",
   "version": "3.7.0"
  }
 },
 "nbformat": 4,
 "nbformat_minor": 5
}
