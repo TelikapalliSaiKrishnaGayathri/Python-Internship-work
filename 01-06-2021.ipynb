{
 "cells": [
  {
   "cell_type": "markdown",
   "id": "cba60eb3",
   "metadata": {},
   "source": [
    "# **Python data structures**\n",
    "\n",
    "## The data structures available in python are:\n",
    "    - list\n",
    "    - tuple\n",
    "    - set\n",
    "    - dictionary"
   ]
  },
  {
   "cell_type": "markdown",
   "id": "5eb9eabd",
   "metadata": {},
   "source": [
    "# List:\n",
    "    - It can store different data type elements\n",
    "    - it can be defined as \"[]\" and type cassting as \"list()\"\n",
    "    - it consists of indexing so slicing can be done\n",
    "    - It  can stores duplicate elements\n",
    "    - It consists of index and slicing can be done"
   ]
  },
  {
   "cell_type": "markdown",
   "id": "420327d9",
   "metadata": {},
   "source": [
    "# Tuple\n",
    "    - It can store different data type elements\n",
    "    - it can be defined as \"()\" and type casting as \"tuple()\"\n",
    "    - it consists of index and slicinng can be done\n",
    "    - It stores the values in the given format\n",
    "    - In this the values cannot be changed\n",
    "    - It can store the duplicate elements\n",
    "    "
   ]
  },
  {
   "cell_type": "markdown",
   "id": "aee188c6",
   "metadata": {},
   "source": [
    "# Set\n",
    "    - It can store different data type elements\n",
    "    - it can be defined as \"{}\" and type casting as \"set{}\" ===> {a} => set\n",
    "    - It doesn't consist of index and slicing cannot be done\n",
    "    - It stores the values in the given format but it prints in alphabetical order\n",
    "    - In this the values can be changed\n",
    "    - It can't store duplicate elemets"
   ]
  },
  {
   "cell_type": "markdown",
   "id": "2277eba1",
   "metadata": {},
   "source": [
    "# Dictionary\n",
    "    - It can store the different data type elements but it follows key -  value pairs\n",
    "    - It can be defined as \"{}\" by default and type casting as \"dict()\"\n",
    "    - It consists of index but it can be applicate for either keys or values and slicing can be done\n",
    "    - It stores the values in the given format\n",
    "    - It can't store duplicate keys but it can store duplicate values\n",
    "    - In this values can be changed"
   ]
  },
  {
   "cell_type": "markdown",
   "id": "8005b341",
   "metadata": {},
   "source": [
    "# List:"
   ]
  },
  {
   "cell_type": "code",
   "execution_count": 3,
   "id": "c9a39eaa",
   "metadata": {},
   "outputs": [
    {
     "name": "stdout",
     "output_type": "stream",
     "text": [
      "[26, 'Krishna', 9.85, 'Krishna', 'Gayathri'] <class 'list'>\n"
     ]
    }
   ],
   "source": [
    "l1=[26, \"Krishna\", 9.85, \"Krishna\", \"Gayathri\"] # allows duplicate elements\n",
    "print(l1, type(l1))"
   ]
  },
  {
   "cell_type": "code",
   "execution_count": 5,
   "id": "94700038",
   "metadata": {},
   "outputs": [
    {
     "name": "stdout",
     "output_type": "stream",
     "text": [
      "26\n",
      "Gayathri\n",
      "Krishna\n",
      "9.85\n"
     ]
    }
   ],
   "source": [
    "print(l1[0]) # printing 1st element in list l1\n",
    "print(l1[4]) # printing 5th element in list l1\n",
    "print(l1[3]) # printing 4th element in list l1\n",
    "print(l1[2]) # printing 3rd element in list l1"
   ]
  },
  {
   "cell_type": "code",
   "execution_count": 9,
   "id": "5d5a9b27",
   "metadata": {},
   "outputs": [
    {
     "name": "stdout",
     "output_type": "stream",
     "text": [
      "Gayathri\n",
      "Krishna\n"
     ]
    }
   ],
   "source": [
    "# Reverse indexing\n",
    "print(l1[-1])\n",
    "print(l1[-2])"
   ]
  },
  {
   "cell_type": "code",
   "execution_count": 6,
   "id": "17303cd3",
   "metadata": {},
   "outputs": [
    {
     "name": "stdout",
     "output_type": "stream",
     "text": [
      "['__add__', '__class__', '__contains__', '__delattr__', '__delitem__', '__dir__', '__doc__', '__eq__', '__format__', '__ge__', '__getattribute__', '__getitem__', '__gt__', '__hash__', '__iadd__', '__imul__', '__init__', '__init_subclass__', '__iter__', '__le__', '__len__', '__lt__', '__mul__', '__ne__', '__new__', '__reduce__', '__reduce_ex__', '__repr__', '__reversed__', '__rmul__', '__setattr__', '__setitem__', '__sizeof__', '__str__', '__subclasshook__', 'append', 'clear', 'copy', 'count', 'extend', 'index', 'insert', 'pop', 'remove', 'reverse', 'sort']\n"
     ]
    }
   ],
   "source": [
    "print(dir(list))"
   ]
  },
  {
   "cell_type": "code",
   "execution_count": 7,
   "id": "9c8860b1",
   "metadata": {},
   "outputs": [
    {
     "name": "stdout",
     "output_type": "stream",
     "text": [
      "['__add__', '__class__', '__contains__', '__delattr__', '__delitem__', '__dir__', '__doc__', '__eq__', '__format__', '__ge__', '__getattribute__', '__getitem__', '__gt__', '__hash__', '__iadd__', '__imul__', '__init__', '__init_subclass__', '__iter__', '__le__', '__len__', '__lt__', '__mul__', '__ne__', '__new__', '__reduce__', '__reduce_ex__', '__repr__', '__reversed__', '__rmul__', '__setattr__', '__setitem__', '__sizeof__', '__str__', '__subclasshook__', 'append', 'clear', 'copy', 'count', 'extend', 'index', 'insert', 'pop', 'remove', 'reverse', 'sort']\n"
     ]
    }
   ],
   "source": [
    "print(dir(l1))"
   ]
  },
  {
   "cell_type": "code",
   "execution_count": 12,
   "id": "9e9a489c",
   "metadata": {},
   "outputs": [
    {
     "name": "stdout",
     "output_type": "stream",
     "text": [
      "[10, 20, 30]\n",
      "26\n",
      "[10, 20, 30, 26]\n"
     ]
    }
   ],
   "source": [
    "# Appending list\n",
    "a = [10,20,30]\n",
    "print(a)\n",
    "b = int(input())\n",
    "a.append(b)\n",
    "print(a)"
   ]
  },
  {
   "cell_type": "code",
   "execution_count": 1,
   "id": "d5f37b33",
   "metadata": {},
   "outputs": [
    {
     "name": "stdout",
     "output_type": "stream",
     "text": [
      "[10, 20, 30]\n",
      "Enter any value to append to list a: 20\n",
      "[10, 20, 30, 20]\n"
     ]
    }
   ],
   "source": [
    "a = [10,20,30]\n",
    "print(a)\n",
    "b = int(input(\"Enter any value to append to list a: \"))\n",
    "a.append(b)\n",
    "print(a)"
   ]
  },
  {
   "cell_type": "code",
   "execution_count": 16,
   "id": "767b6b3c",
   "metadata": {},
   "outputs": [
    {
     "name": "stdout",
     "output_type": "stream",
     "text": [
      "['a', 'b', 'c', 'd']\n",
      "After copying....\n",
      "['a', 'b', 'c', 'd']\n",
      "Appending a value to l3\n",
      "['a', 'b', 'c', 'd']\n",
      "['a', 'b', 'c', 'd', 'krishna']\n",
      "Appending value to l2\n",
      "['a', 'b', 'c', 'd', 26]\n",
      "['a', 'b', 'c', 'd', 'krishna']\n"
     ]
    }
   ],
   "source": [
    "l2 = ['a', 'b', 'c', 'd']\n",
    "print(l2)\n",
    "l3 = l2.copy()\n",
    "print(\"After copying....\")\n",
    "print(l3)\n",
    "print(\"Appending a value to l3\")\n",
    "l3.append(\"krishna\")\n",
    "print(l2)\n",
    "print(l3)\n",
    "print(\"Appending value to l2\")\n",
    "l2.append(26)\n",
    "print(l2)\n",
    "print(l3)"
   ]
  },
  {
   "cell_type": "code",
   "execution_count": 19,
   "id": "43578f38",
   "metadata": {},
   "outputs": [
    {
     "name": "stdout",
     "output_type": "stream",
     "text": [
      "3\n",
      "2\n",
      "0\n"
     ]
    }
   ],
   "source": [
    "n = [10,10,12,34,56,76,10,3,4,34,56]\n",
    "print(n.count(10))\n",
    "print(n.count(34))\n",
    "print(n.count(26))"
   ]
  },
  {
   "cell_type": "code",
   "execution_count": 21,
   "id": "c910e5b5",
   "metadata": {},
   "outputs": [
    {
     "name": "stdout",
     "output_type": "stream",
     "text": [
      "10\n",
      "10\n",
      "12\n",
      "34\n",
      "56\n",
      "76\n",
      "10\n",
      "3\n",
      "4\n",
      "34\n",
      "56\n"
     ]
    }
   ],
   "source": [
    "n = [10,10,12,34,56,76,10,3,4,34,56]\n",
    "for i in n:\n",
    "    print(i)"
   ]
  },
  {
   "cell_type": "code",
   "execution_count": 23,
   "id": "39ea2f60",
   "metadata": {},
   "outputs": [
    {
     "name": "stdout",
     "output_type": "stream",
     "text": [
      "[10, 10, 12, 34, 56, 76, 10, 3, 4, 34, 56]\n",
      "[10, 10, 12, 34, 56, 76, 10, 3, 4, 34, 56]\n",
      "[10, 10, 12, 34, 56, 76, 10, 3, 4, 34, 56]\n",
      "[10, 10, 12, 34, 56, 76, 10, 3, 4, 34, 56]\n",
      "[10, 10, 12, 34, 56, 76, 10, 3, 4, 34, 56]\n",
      "[10, 10, 12, 34, 56, 76, 10, 3, 4, 34, 56]\n",
      "[10, 10, 12, 34, 56, 76, 10, 3, 4, 34, 56]\n",
      "[10, 10, 12, 34, 56, 76, 10, 3, 4, 34, 56]\n",
      "[10, 10, 12, 34, 56, 76, 10, 3, 4, 34, 56]\n",
      "[10, 10, 12, 34, 56, 76, 10, 3, 4, 34, 56]\n",
      "[10, 10, 12, 34, 56, 76, 10, 3, 4, 34, 56]\n"
     ]
    }
   ],
   "source": [
    "for i in range(len(n)):\n",
    "    print(n)"
   ]
  },
  {
   "cell_type": "code",
   "execution_count": 24,
   "id": "5dcaafd7",
   "metadata": {},
   "outputs": [
    {
     "name": "stdout",
     "output_type": "stream",
     "text": [
      "0\n",
      "1\n",
      "2\n",
      "3\n",
      "4\n",
      "5\n",
      "6\n",
      "7\n",
      "8\n",
      "9\n",
      "10\n"
     ]
    }
   ],
   "source": [
    "for i in range(len(n)):\n",
    "    print(i)"
   ]
  },
  {
   "cell_type": "code",
   "execution_count": 25,
   "id": "e96c22ad",
   "metadata": {},
   "outputs": [
    {
     "name": "stdout",
     "output_type": "stream",
     "text": [
      "0 count is: 0\n",
      "1 count is: 0\n",
      "2 count is: 0\n",
      "3 count is: 1\n",
      "4 count is: 1\n",
      "5 count is: 0\n",
      "6 count is: 0\n",
      "7 count is: 0\n",
      "8 count is: 0\n",
      "9 count is: 0\n",
      "10 count is: 3\n"
     ]
    }
   ],
   "source": [
    "for i in range(len(n)):\n",
    "    print(\"{} count is: {}\".format(i,n.count(i)))\n",
    "    "
   ]
  },
  {
   "cell_type": "code",
   "execution_count": 26,
   "id": "26b0ee15",
   "metadata": {},
   "outputs": [
    {
     "name": "stdout",
     "output_type": "stream",
     "text": [
      "[26, 9.85, 'Krishna', 'Gayathri', 500]\n",
      "['Gayathri', 500]\n"
     ]
    }
   ],
   "source": [
    "x = [26, 9.85, \"Krishna\"]\n",
    "y = [\"Gayathri\", 500]\n",
    "x.extend(y)\n",
    "print(x)\n",
    "print(y)"
   ]
  },
  {
   "cell_type": "code",
   "execution_count": 27,
   "id": "fa96a29c",
   "metadata": {},
   "outputs": [
    {
     "name": "stdout",
     "output_type": "stream",
     "text": [
      "[26, 9.85, 'Krishna']\n",
      "['Gayathri', 500, 'Gayathri', 500]\n"
     ]
    }
   ],
   "source": [
    "x = [26, 9.85, \"Krishna\"]\n",
    "y = [\"Gayathri\", 500]\n",
    "y.extend(y)\n",
    "print(x)\n",
    "print(y)"
   ]
  },
  {
   "cell_type": "code",
   "execution_count": 28,
   "id": "adcea5f5",
   "metadata": {},
   "outputs": [
    {
     "name": "stdout",
     "output_type": "stream",
     "text": [
      "[26, 9.85, 'Krishna']\n",
      "['Gayathri', 500, 26, 9.85, 'Krishna']\n"
     ]
    }
   ],
   "source": [
    "x = [26, 9.85, \"Krishna\"]\n",
    "y = [\"Gayathri\", 500]\n",
    "y.extend(x)\n",
    "print(x)\n",
    "print(y)"
   ]
  },
  {
   "cell_type": "code",
   "execution_count": 29,
   "id": "01a743f5",
   "metadata": {},
   "outputs": [
    {
     "ename": "ValueError",
     "evalue": "2 is not in list",
     "output_type": "error",
     "traceback": [
      "\u001b[1;31m---------------------------------------------------------------------------\u001b[0m",
      "\u001b[1;31mValueError\u001b[0m                                Traceback (most recent call last)",
      "\u001b[1;32m<ipython-input-29-6bd7110a1dc8>\u001b[0m in \u001b[0;36m<module>\u001b[1;34m\u001b[0m\n\u001b[1;32m----> 1\u001b[1;33m \u001b[0mx\u001b[0m\u001b[1;33m.\u001b[0m\u001b[0mindex\u001b[0m\u001b[1;33m(\u001b[0m\u001b[1;36m2\u001b[0m\u001b[1;33m)\u001b[0m\u001b[1;33m\u001b[0m\u001b[0m\n\u001b[0m",
      "\u001b[1;31mValueError\u001b[0m: 2 is not in list"
     ]
    }
   ],
   "source": [
    "x.index(2)"
   ]
  },
  {
   "cell_type": "code",
   "execution_count": 31,
   "id": "763af94b",
   "metadata": {},
   "outputs": [
    {
     "name": "stdout",
     "output_type": "stream",
     "text": [
      "2\n",
      "1\n"
     ]
    }
   ],
   "source": [
    "print(x.index(\"Krishna\"))\n",
    "print(y.index(500))"
   ]
  },
  {
   "cell_type": "code",
   "execution_count": 44,
   "id": "0455b2f5",
   "metadata": {},
   "outputs": [
    {
     "name": "stdout",
     "output_type": "stream",
     "text": [
      "[26, 'aaa', 'jjj', 90.78]\n"
     ]
    }
   ],
   "source": [
    "list1 = [26, \"aaa\", 90.78]\n",
    "list1.insert(2, \"jjj\")\n",
    "print(list1)"
   ]
  },
  {
   "cell_type": "code",
   "execution_count": 45,
   "id": "23191b26",
   "metadata": {},
   "outputs": [
    {
     "name": "stdout",
     "output_type": "stream",
     "text": [
      "[26, 'aaa', 90.78]\n"
     ]
    }
   ],
   "source": [
    "list1.pop(2)\n",
    "print(list1)"
   ]
  },
  {
   "cell_type": "code",
   "execution_count": 46,
   "id": "13c6f259",
   "metadata": {},
   "outputs": [
    {
     "name": "stdout",
     "output_type": "stream",
     "text": [
      "[26, 'aaa', 90.78]\n",
      "[90.78, 'aaa', 26]\n"
     ]
    }
   ],
   "source": [
    "print(list1)\n",
    "list1.reverse()\n",
    "print(list1)"
   ]
  },
  {
   "cell_type": "code",
   "execution_count": 47,
   "id": "0fafb8cf",
   "metadata": {},
   "outputs": [
    {
     "name": "stdout",
     "output_type": "stream",
     "text": [
      "[1, 4, 6, 2, 3, 4, 5, 7]\n",
      "[1, 2, 3, 4, 4, 5, 6, 7]\n"
     ]
    }
   ],
   "source": [
    "l5 = [1,4,6,2,3,4,5,7]\n",
    "print(l5)\n",
    "l5.sort()\n",
    "print(l5)"
   ]
  },
  {
   "cell_type": "code",
   "execution_count": 48,
   "id": "8ad28f63",
   "metadata": {},
   "outputs": [
    {
     "name": "stdout",
     "output_type": "stream",
     "text": [
      "[1.2, 6.7, 34, 4567, 9, 23.34]\n",
      "[1.2, 6.7, 9, 23.34, 34, 4567]\n"
     ]
    }
   ],
   "source": [
    "l4 = [1.2,6.7,34,4567,9,23.34]\n",
    "print(l4)\n",
    "l4.sort()\n",
    "print(l4)"
   ]
  },
  {
   "cell_type": "code",
   "execution_count": 50,
   "id": "6a96c568",
   "metadata": {},
   "outputs": [
    {
     "name": "stdout",
     "output_type": "stream",
     "text": [
      "['aaa', 'cccc', 'eee', 'xxxxx', 'aaaaa', 'ddddd', 'ewded']\n",
      "['aaa', 'aaaaa', 'cccc', 'ddddd', 'eee', 'ewded', 'xxxxx']\n"
     ]
    }
   ],
   "source": [
    "l6 = ['aaa','cccc','eee','xxxxx','aaaaa','ddddd','ewded']\n",
    "print(l6)\n",
    "l6.sort()\n",
    "print(l6)"
   ]
  },
  {
   "cell_type": "code",
   "execution_count": 51,
   "id": "84f682f8",
   "metadata": {},
   "outputs": [
    {
     "data": {
      "text/plain": [
       "['aaa', 'aaaaa', 'cccc', 'ddddd', 'eee', 'ewded', 'xxxxx']"
      ]
     },
     "execution_count": 51,
     "metadata": {},
     "output_type": "execute_result"
    }
   ],
   "source": [
    "sorted(l6)"
   ]
  },
  {
   "cell_type": "code",
   "execution_count": 53,
   "id": "89aa6f2c",
   "metadata": {},
   "outputs": [
    {
     "name": "stdout",
     "output_type": "stream",
     "text": [
      "[26, 34, 18, 21, 8]\n",
      "[8, 18, 21, 26, 34]\n"
     ]
    }
   ],
   "source": [
    "c = [26,34,18,21,8]\n",
    "d = sorted(c)\n",
    "print(c)\n",
    "print(d)"
   ]
  },
  {
   "cell_type": "code",
   "execution_count": 55,
   "id": "aee08c4f",
   "metadata": {},
   "outputs": [
    {
     "name": "stdout",
     "output_type": "stream",
     "text": [
      "[8, 18, 21, 26, 34]\n",
      "[]\n"
     ]
    }
   ],
   "source": [
    "print(d)\n",
    "d.clear()\n",
    "print(d)"
   ]
  },
  {
   "cell_type": "code",
   "execution_count": 56,
   "id": "1ca96a7d",
   "metadata": {},
   "outputs": [
    {
     "name": "stdout",
     "output_type": "stream",
     "text": [
      "[26, 34, 18, 21, 8]\n"
     ]
    },
    {
     "ename": "NameError",
     "evalue": "name 'c' is not defined",
     "output_type": "error",
     "traceback": [
      "\u001b[1;31m---------------------------------------------------------------------------\u001b[0m",
      "\u001b[1;31mNameError\u001b[0m                                 Traceback (most recent call last)",
      "\u001b[1;32m<ipython-input-56-dc758fc0ac21>\u001b[0m in \u001b[0;36m<module>\u001b[1;34m\u001b[0m\n\u001b[0;32m      1\u001b[0m \u001b[0mprint\u001b[0m\u001b[1;33m(\u001b[0m\u001b[0mc\u001b[0m\u001b[1;33m)\u001b[0m\u001b[1;33m\u001b[0m\u001b[0m\n\u001b[0;32m      2\u001b[0m \u001b[1;32mdel\u001b[0m \u001b[0mc\u001b[0m\u001b[1;33m\u001b[0m\u001b[0m\n\u001b[1;32m----> 3\u001b[1;33m \u001b[0mprint\u001b[0m\u001b[1;33m(\u001b[0m\u001b[0mc\u001b[0m\u001b[1;33m)\u001b[0m\u001b[1;33m\u001b[0m\u001b[0m\n\u001b[0m",
      "\u001b[1;31mNameError\u001b[0m: name 'c' is not defined"
     ]
    }
   ],
   "source": [
    "print(c)\n",
    "del c\n",
    "print(c)"
   ]
  },
  {
   "cell_type": "markdown",
   "id": "206131da",
   "metadata": {},
   "source": [
    "# Tuple"
   ]
  },
  {
   "cell_type": "code",
   "execution_count": 57,
   "id": "75b5b5f5",
   "metadata": {},
   "outputs": [
    {
     "name": "stdout",
     "output_type": "stream",
     "text": [
      "(12, 48, 36, 'gayathri') <class 'tuple'>\n"
     ]
    }
   ],
   "source": [
    "s = (12, 48, 36,\"gayathri\")\n",
    "print(s, type(s))"
   ]
  },
  {
   "cell_type": "code",
   "execution_count": 58,
   "id": "8b1a5e66",
   "metadata": {},
   "outputs": [
    {
     "name": "stdout",
     "output_type": "stream",
     "text": [
      "['__add__', '__class__', '__contains__', '__delattr__', '__dir__', '__doc__', '__eq__', '__format__', '__ge__', '__getattribute__', '__getitem__', '__getnewargs__', '__gt__', '__hash__', '__init__', '__init_subclass__', '__iter__', '__le__', '__len__', '__lt__', '__mul__', '__ne__', '__new__', '__reduce__', '__reduce_ex__', '__repr__', '__rmul__', '__setattr__', '__sizeof__', '__str__', '__subclasshook__', 'count', 'index']\n"
     ]
    }
   ],
   "source": [
    "print(dir(tuple))"
   ]
  },
  {
   "cell_type": "code",
   "execution_count": 59,
   "id": "b64d7aa4",
   "metadata": {},
   "outputs": [
    {
     "name": "stdout",
     "output_type": "stream",
     "text": [
      "1\n"
     ]
    }
   ],
   "source": [
    "print(s.count(12)) #Finds the count of 12 in that tuple"
   ]
  },
  {
   "cell_type": "code",
   "execution_count": 60,
   "id": "fe6a6b9b",
   "metadata": {},
   "outputs": [
    {
     "data": {
      "text/plain": [
       "1"
      ]
     },
     "execution_count": 60,
     "metadata": {},
     "output_type": "execute_result"
    }
   ],
   "source": [
    "s.index(48) #Returns index value of 48"
   ]
  },
  {
   "cell_type": "code",
   "execution_count": null,
   "id": "b0a520fc",
   "metadata": {},
   "outputs": [],
   "source": []
  }
 ],
 "metadata": {
  "kernelspec": {
   "display_name": "Python 3",
   "language": "python",
   "name": "python3"
  },
  "language_info": {
   "codemirror_mode": {
    "name": "ipython",
    "version": 3
   },
   "file_extension": ".py",
   "mimetype": "text/x-python",
   "name": "python",
   "nbconvert_exporter": "python",
   "pygments_lexer": "ipython3",
   "version": "3.7.0"
  }
 },
 "nbformat": 4,
 "nbformat_minor": 5
}
