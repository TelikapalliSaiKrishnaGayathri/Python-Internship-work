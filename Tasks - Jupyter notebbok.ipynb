{
 "cells": [
  {
   "cell_type": "markdown",
   "id": "485086fd",
   "metadata": {},
   "source": [
    "## Task-1\n",
    "\n",
    "***Printing Alphabets, digits, Characters in a given input string***"
   ]
  },
  {
   "cell_type": "code",
   "execution_count": 4,
   "id": "1c3e1978",
   "metadata": {},
   "outputs": [
    {
     "name": "stdout",
     "output_type": "stream",
     "text": [
      "Enter a string: ade2563vdjh#@6tvj78\n",
      "Given string is:  ade2563vdjh#@6tvj78\n",
      "Alphabets in  ade2563vdjh#@6tvj78 is:  a d e v d j h t v j\n",
      "Digits in  ade2563vdjh#@6tvj78 is:  2 5 6 3 6 7 8\n",
      "Special characters in ade2563vdjh#@6tvj78 is:  # @\n"
     ]
    }
   ],
   "source": [
    "x = input(\"Enter a string: \")\n",
    "print(\"Given string is: \",x)\n",
    "l1=[]\n",
    "l2=[]\n",
    "l3=[]\n",
    "for i in x:\n",
    "    if(i.isalpha()):\n",
    "        l1.append(i)\n",
    "    elif(i.isdigit()):\n",
    "        l2.append(i)\n",
    "    else:\n",
    "        l3.append(i)\n",
    "a = \" \".join(l1)\n",
    "b = \" \".join(l2)\n",
    "c = \" \".join(l3)\n",
    "print(\"Alphabets in \",x,\"is: \",a)\n",
    "print(\"Digits in \",x,\"is: \",b)\n",
    "print(\"Special characters in\",x,\"is: \",c)"
   ]
  },
  {
   "cell_type": "code",
   "execution_count": null,
   "id": "c0979e79",
   "metadata": {},
   "outputs": [],
   "source": []
  },
  {
   "cell_type": "markdown",
   "id": "cd2df5de",
   "metadata": {},
   "source": [
    "## Task-2\n",
    "\n",
    "***Creating Contact Application***\n",
    "    \n",
    "    - Entering new record\n",
    "    - Displaying all records\n",
    "    - Update record\n",
    "    - Delete record"
   ]
  },
  {
   "cell_type": "code",
   "execution_count": 5,
   "id": "0252177b",
   "metadata": {},
   "outputs": [
    {
     "name": "stdout",
     "output_type": "stream",
     "text": [
      "1.Enter new record \n",
      " 2.Display all records \n",
      " 3.Update record \n",
      " 4.Delete record\n",
      "Select any option from above for Contact Application: 1\n",
      "Dictionary is empty! Enter no. of records you want to create: 4\n",
      "Enter your name: Gayathri\n",
      "Enter your mobile number: 9505195051\n",
      "Enter your name: Krishna\n",
      "Enter your mobile number: 9440521621\n",
      "Enter your name: Tejaswini\n",
      "Enter your mobile number: 8522985229\n",
      "Enter your name: Pujitha\n",
      "Enter your mobile number: 8917789177\n",
      "Details Saved successfully...\n",
      "Entered records are: \n",
      "Name \tmobile number\n",
      "Gayathri \t 9505195051\n",
      "Krishna \t 9440521621\n",
      "Pujitha \t 8917789177\n",
      "Tejaswini \t 8522985229\n",
      "Press 2 to display records\n",
      "Press 3 to update a record\n",
      "Press 4 to delete record\n",
      "Enter your Choice: 3\n",
      "Enter your name: Krishna\n",
      "Krishna Record already exists.\n",
      "After updation, the records are: \n",
      "Name \tmobile number\n",
      "Gayathri \t 9505195051\n",
      "Krishna \t 9440521621\n",
      "Pujitha \t 8917789177\n",
      "Tejaswini \t 8522985229\n"
     ]
    }
   ],
   "source": [
    "print(\"1.Enter new record \\n 2.Display all records \\n 3.Update record \\n 4.Delete record\")\n",
    "n = int(input(\"Select any option from above for Contact Application: \"))\n",
    "d1={}\n",
    "d2={}\n",
    "#Creating records in a empty dictionary\n",
    "if(n==1 or n==3):\n",
    "    m1 = int(input(\"Dictionary is empty! Enter no. of records you want to create: \"))\n",
    "    # Creating multiple records using for loop\n",
    "    for i in range(1, m1+1):\n",
    "        name = input(\"Enter your name: \")\n",
    "        if name in d1:\n",
    "            print(name,\"Already exists\")\n",
    "        else:\n",
    "            num = int(input(\"Enter your mobile number: \"))\n",
    "            d1[name] = num\n",
    "    print(\"Details Saved successfully...\")\n",
    "    print(\"Entered records are: \")\n",
    "    print(\"Name \\tmobile number\")\n",
    "    for name,num in sorted(d1.items()):\n",
    "        print(name,\"\\t\",num)\n",
    "    print(\"Press 2 to display records\\nPress 3 to update a record\\nPress 4 to delete record\")\n",
    "    m = int(input(\"Enter your Choice: \"))\n",
    "    # display or update or deletion based on choice\n",
    "    if(m==2):\n",
    "        print(\"Displaying Records...\")\n",
    "        print(\"Name \\tmobile number\")\n",
    "        for name,num in sorted(d1.items()):\n",
    "            print(name,\"\\t\",num)\n",
    "    # updating record in existing dictionary\n",
    "    elif(m==3):\n",
    "        name = input(\"Enter your name: \")\n",
    "        if name in d1:\n",
    "            print(name,\"Record already exists.\")\n",
    "        else:\n",
    "            num = int(input(\"Enter your mobile number: \"))\n",
    "            d2[name] = num\n",
    "            d1.update(d2)\n",
    "            print(\"Record successfully Updated...\")\n",
    "        print(\"After updation, the records are: \")\n",
    "        print(\"Name \\tmobile number\")\n",
    "        for name,num in sorted(d1.items()):\n",
    "            print(name,\"\\t\",num)\n",
    "    # deleting record in dictionary\n",
    "    elif(m==4):\n",
    "        name1 = input(\"Enter a name to delete in the record: \")\n",
    "        if name1 in d1:\n",
    "            d1.pop(name1)\n",
    "            print(\"record deleted..\")\n",
    "            print(\"After deletion, the records are: \")\n",
    "            print(\"Name \\tmobile number\")\n",
    "            for name,num in sorted(d1.items()):\n",
    "                print(name,\"\\t\",num)\n",
    "        else:\n",
    "            print(\"Name doesn't exist\")\n",
    "elif(n==2 or n==4):\n",
    "    print(\"Empty record\")\n",
    "else:\n",
    "    print(\"Please enter a right option\")"
   ]
  },
  {
   "cell_type": "code",
   "execution_count": null,
   "id": "16a4b75c",
   "metadata": {},
   "outputs": [],
   "source": []
  },
  {
   "cell_type": "markdown",
   "id": "d4be9fc9",
   "metadata": {},
   "source": [
    "# Task-3\n",
    "\n",
    "***creating a package called calci that consists of different modules with arithmetic operations***"
   ]
  },
  {
   "cell_type": "code",
   "execution_count": 1,
   "id": "1a3195e0",
   "metadata": {},
   "outputs": [],
   "source": [
    "from APSSDC.Calci import add as a # importing add module from Calci\n",
    "from APSSDC.Calci import sub as s # importing sub module from Calci\n",
    "from APSSDC.Calci import mul as m # importing mul module from Calci\n",
    "from APSSDC.Calci import div as d # importing div module from Calci"
   ]
  },
  {
   "cell_type": "code",
   "execution_count": 2,
   "id": "3b2d4da5",
   "metadata": {},
   "outputs": [
    {
     "name": "stdout",
     "output_type": "stream",
     "text": [
      "Enter first value: 10\n",
      "Enter second value: 20\n",
      "The given numbers are 10 and 20 and its addition is : 30\n",
      "The given numbers are 10 and 20 and its subtraction is : -10\n",
      "The given numbers are 10 and 20 and its multiplication is : 200\n",
      "The given numbers are 10 and 20 and its division is : 0.5\n"
     ]
    }
   ],
   "source": [
    "x = int(input(\"Enter first value: \"))\n",
    "y = int(input(\"Enter second value: \"))\n",
    "z1 = a.add(x,y) # accessing addition value and storing in z1 variable\n",
    "z2 = s.sub(x,y) # accessing subtraction value and storing in z2 variable\n",
    "z3 = m.mul(x,y) # accessing multiplication value and storing in z3 variable\n",
    "z4 = d.div(x,y) # accessing division value and storing in z4 variable\n",
    "print(\"The given numbers are {} and {} and its addition is : {}\".format(x,y,z1))\n",
    "print(\"The given numbers are {} and {} and its subtraction is : {}\".format(x,y,z2))\n",
    "print(\"The given numbers are {} and {} and its multiplication is : {}\".format(x,y,z3))\n",
    "print(\"The given numbers are {} and {} and its division is : {}\".format(x,y,z4))"
   ]
  },
  {
   "cell_type": "code",
   "execution_count": null,
   "id": "6ad748b7",
   "metadata": {},
   "outputs": [],
   "source": []
  },
  {
   "cell_type": "code",
   "execution_count": null,
   "id": "abab8038",
   "metadata": {},
   "outputs": [],
   "source": []
  },
  {
   "cell_type": "code",
   "execution_count": null,
   "id": "8adb57e5",
   "metadata": {},
   "outputs": [],
   "source": []
  }
 ],
 "metadata": {
  "kernelspec": {
   "display_name": "Python 3",
   "language": "python",
   "name": "python3"
  },
  "language_info": {
   "codemirror_mode": {
    "name": "ipython",
    "version": 3
   },
   "file_extension": ".py",
   "mimetype": "text/x-python",
   "name": "python",
   "nbconvert_exporter": "python",
   "pygments_lexer": "ipython3",
   "version": "3.7.0"
  }
 },
 "nbformat": 4,
 "nbformat_minor": 5
}
